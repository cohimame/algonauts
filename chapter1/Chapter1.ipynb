{
 "cells": [
  {
   "cell_type": "markdown",
   "metadata": {},
   "source": [
    "\"Программирование: теоремы и задачи\" by А. Шень.\n",
    "=="
   ]
  },
  {
   "cell_type": "markdown",
   "metadata": {},
   "source": [
    "1. Переменные, выражения, присваивания.\n",
    "--"
   ]
  },
  {
   "cell_type": "markdown",
   "metadata": {},
   "source": [
    "1.1.1-1.1.2 Даны две целые переменные a, b. Составить фрагмент программы,\n",
    "после исполнения которого значения переменных поменялись бы местами."
   ]
  },
  {
   "cell_type": "code",
   "execution_count": 1,
   "metadata": {
    "collapsed": false
   },
   "outputs": [
    {
     "name": "stdout",
     "output_type": "stream",
     "text": [
      "13 12\n"
     ]
    }
   ],
   "source": [
    "a = 12\n",
    "b = 13\n",
    "\n",
    "t = a\n",
    "a = b\n",
    "b = t\n",
    "print(a,b)"
   ]
  },
  {
   "cell_type": "code",
   "execution_count": 2,
   "metadata": {
    "collapsed": false
   },
   "outputs": [
    {
     "name": "stdout",
     "output_type": "stream",
     "text": [
      "12 13\n"
     ]
    }
   ],
   "source": [
    "# python way\n",
    "a,b = b,a\n",
    "print(a,b)"
   ]
  },
  {
   "cell_type": "code",
   "execution_count": 3,
   "metadata": {
    "collapsed": false
   },
   "outputs": [
    {
     "name": "stdout",
     "output_type": "stream",
     "text": [
      "13 12\n"
     ]
    }
   ],
   "source": [
    "# без доп. переменных\n",
    "a = a + b \n",
    "b = a - b # == a\n",
    "a = a - b # == b \n",
    "print(a,b)"
   ]
  },
  {
   "cell_type": "markdown",
   "metadata": {},
   "source": [
    "1.1.3-1.1.4 Дано целое число а и натуральное число n. Вычислить an."
   ]
  },
  {
   "cell_type": "code",
   "execution_count": 19,
   "metadata": {
    "collapsed": false
   },
   "outputs": [
    {
     "name": "stdout",
     "output_type": "stream",
     "text": [
      "128\n"
     ]
    }
   ],
   "source": [
    "a = 2\n",
    "n = 7\n",
    "\n",
    "b = 1\n",
    "for k in range(1,n+1):\n",
    "   b = b*a\n",
    "print(b)"
   ]
  },
  {
   "cell_type": "code",
   "execution_count": 18,
   "metadata": {
    "collapsed": false
   },
   "outputs": [
    {
     "data": {
      "text/plain": [
       "0"
      ]
     },
     "execution_count": 18,
     "metadata": {},
     "output_type": "execute_result"
    }
   ],
   "source": [
    "2 % 2"
   ]
  },
  {
   "cell_type": "code",
   "execution_count": 22,
   "metadata": {
    "collapsed": false
   },
   "outputs": [
    {
     "name": "stdout",
     "output_type": "stream",
     "text": [
      "2^7 ==1*2^7\n",
      "2^7 ==2*2^6\n",
      "2^7 ==4*2^5\n",
      "2^7 ==8*2^4\n",
      "2^7 ==16*2^3\n",
      "2^7 ==32*2^2\n",
      "2^7 ==64*2^1\n",
      "2^7 ==128*2^0\n"
     ]
    }
   ],
   "source": [
    "# за C*log(n) действий\n",
    "a = 2\n",
    "n = 7\n",
    "\n",
    "k = n\n",
    "b = 1\n",
    "c = a\n",
    "\n",
    "print('{}^{} =={}*{}^{}'.format(a,n,b,c,k))\n",
    "while k != 0:\n",
    "    if n % 2 == 0:\n",
    "        c = c * c\n",
    "        k = k / 2\n",
    "    else:\n",
    "        b = b * c\n",
    "        k = k - 1\n",
    "    print('{}^{} =={}*{}^{}'.format(a,n,b,c,k))"
   ]
  },
  {
   "cell_type": "markdown",
   "metadata": {},
   "source": [
    "1.1.7. Дано натуральное число а и целое положительное число d. Вычислить частное q и остаток r при делении а на d, не используя операций div и mod."
   ]
  },
  {
   "cell_type": "code",
   "execution_count": 23,
   "metadata": {
    "collapsed": false
   },
   "outputs": [
    {
     "name": "stdout",
     "output_type": "stream",
     "text": [
      "17 ==3*5+2\n"
     ]
    }
   ],
   "source": [
    "# a = q*d + r\n",
    "a = 17\n",
    "d = 5\n",
    "\n",
    "q = 0\n",
    "r = a\n",
    "while r >= d:\n",
    "    r = r - d\n",
    "    q = q + 1\n",
    "\n",
    "print('{} =={}*{}+{}'.format(a,q,d,r)) "
   ]
  },
  {
   "cell_type": "markdown",
   "metadata": {},
   "source": [
    "1.1.8. Дано натуральное n, вычислить n! (0! = 1, n! = n · (n − 1)!)."
   ]
  },
  {
   "cell_type": "code",
   "execution_count": 27,
   "metadata": {
    "collapsed": false
   },
   "outputs": [
    {
     "name": "stdout",
     "output_type": "stream",
     "text": [
      "120\n"
     ]
    }
   ],
   "source": [
    "def fac(n):\n",
    "    n = 5\n",
    "    r = 1\n",
    "    while n != 0:\n",
    "        r = r * n\n",
    "        n = n - 1\n",
    "    return r\n",
    "\n",
    "print(fac(4))"
   ]
  },
  {
   "cell_type": "markdown",
   "metadata": {},
   "source": [
    "1.1.9 - 1.1.10 Последовательность Фибоначчи определяется так: a0 = 0, a1 =\n",
    "1, ak = ak-1 + ak-2 при k2. Дано n, вычислить an."
   ]
  },
  {
   "cell_type": "code",
   "execution_count": null,
   "metadata": {
    "collapsed": true
   },
   "outputs": [],
   "source": []
  }
 ],
 "metadata": {
  "kernelspec": {
   "display_name": "Python 3",
   "language": "python",
   "name": "python3"
  },
  "language_info": {
   "codemirror_mode": {
    "name": "ipython",
    "version": 3
   },
   "file_extension": ".py",
   "mimetype": "text/x-python",
   "name": "python",
   "nbconvert_exporter": "python",
   "pygments_lexer": "ipython3",
   "version": "3.4.4"
  }
 },
 "nbformat": 4,
 "nbformat_minor": 0
}
