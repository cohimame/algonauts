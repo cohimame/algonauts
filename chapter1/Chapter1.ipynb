{
 "cells": [
  {
   "cell_type": "markdown",
   "metadata": {},
   "source": [
    "\"Программирование: теоремы и задачи\" by А. Шень.\n",
    "=="
   ]
  },
  {
   "cell_type": "markdown",
   "metadata": {},
   "source": [
    "1. Переменные, выражения, присваивания.\n",
    "--"
   ]
  },
  {
   "cell_type": "markdown",
   "metadata": {},
   "source": [
    "1.1.1-1.1.2 Даны две целые переменные a, b. Составить фрагмент программы,\n",
    "после исполнения которого значения переменных поменялись бы местами."
   ]
  },
  {
   "cell_type": "code",
   "execution_count": 1,
   "metadata": {
    "collapsed": false
   },
   "outputs": [
    {
     "name": "stdout",
     "output_type": "stream",
     "text": [
      "13 12\n"
     ]
    }
   ],
   "source": [
    "a = 12\n",
    "b = 13\n",
    "\n",
    "t = a\n",
    "a = b\n",
    "b = t\n",
    "print(a,b)"
   ]
  },
  {
   "cell_type": "code",
   "execution_count": 2,
   "metadata": {
    "collapsed": false
   },
   "outputs": [
    {
     "name": "stdout",
     "output_type": "stream",
     "text": [
      "12 13\n"
     ]
    }
   ],
   "source": [
    "# python way\n",
    "a,b = b,a\n",
    "print(a,b)"
   ]
  },
  {
   "cell_type": "code",
   "execution_count": 3,
   "metadata": {
    "collapsed": false
   },
   "outputs": [
    {
     "name": "stdout",
     "output_type": "stream",
     "text": [
      "13 12\n"
     ]
    }
   ],
   "source": [
    "# без доп. переменных\n",
    "a = a + b \n",
    "b = a - b # == a\n",
    "a = a - b # == b \n",
    "print(a,b)"
   ]
  },
  {
   "cell_type": "markdown",
   "metadata": {},
   "source": [
    "1.1.3-1.1.4 Дано целое число а и натуральное число n. Вычислить a^n."
   ]
  },
  {
   "cell_type": "code",
   "execution_count": 4,
   "metadata": {
    "collapsed": false
   },
   "outputs": [
    {
     "name": "stdout",
     "output_type": "stream",
     "text": [
      "128\n"
     ]
    }
   ],
   "source": [
    "a = 2\n",
    "n = 7\n",
    "\n",
    "b = 1\n",
    "for k in range(1,n+1):\n",
    "   b = b*a\n",
    "print(b)"
   ]
  },
  {
   "cell_type": "code",
   "execution_count": 5,
   "metadata": {
    "collapsed": false
   },
   "outputs": [
    {
     "data": {
      "text/plain": [
       "0"
      ]
     },
     "execution_count": 5,
     "metadata": {},
     "output_type": "execute_result"
    }
   ],
   "source": [
    "2 % 2"
   ]
  },
  {
   "cell_type": "code",
   "execution_count": 6,
   "metadata": {
    "collapsed": false
   },
   "outputs": [
    {
     "name": "stdout",
     "output_type": "stream",
     "text": [
      "2^7 ==1*2^7\n",
      "2^7 ==2*2^6\n",
      "2^7 ==4*2^5\n",
      "2^7 ==8*2^4\n",
      "2^7 ==16*2^3\n",
      "2^7 ==32*2^2\n",
      "2^7 ==64*2^1\n",
      "2^7 ==128*2^0\n"
     ]
    }
   ],
   "source": [
    "# за C*log(n) действий\n",
    "a = 2\n",
    "n = 7\n",
    "\n",
    "k = n\n",
    "b = 1\n",
    "c = a\n",
    "\n",
    "print('{}^{} =={}*{}^{}'.format(a,n,b,c,k))\n",
    "while k != 0:\n",
    "    if n % 2 == 0:\n",
    "        c = c * c\n",
    "        k = k / 2\n",
    "    else:\n",
    "        b = b * c\n",
    "        k = k - 1\n",
    "    print('{}^{} =={}*{}^{}'.format(a,n,b,c,k))"
   ]
  },
  {
   "cell_type": "markdown",
   "metadata": {},
   "source": [
    "1.1.7. Дано натуральное число а и целое положительное число d. Вычислить частное q и остаток r при делении а на d, не используя операций div и mod."
   ]
  },
  {
   "cell_type": "code",
   "execution_count": 7,
   "metadata": {
    "collapsed": false
   },
   "outputs": [
    {
     "name": "stdout",
     "output_type": "stream",
     "text": [
      "17 ==3*5+2\n"
     ]
    }
   ],
   "source": [
    "# a = q*d + r\n",
    "a = 17\n",
    "d = 5\n",
    "\n",
    "q = 0\n",
    "r = a\n",
    "while r >= d:\n",
    "    r = r - d\n",
    "    q = q + 1\n",
    "\n",
    "print('{} =={}*{}+{}'.format(a,q,d,r)) "
   ]
  },
  {
   "cell_type": "markdown",
   "metadata": {},
   "source": [
    "1.1.8. Дано натуральное n, вычислить n! (0! = 1, n! = n · (n − 1)!)."
   ]
  },
  {
   "cell_type": "code",
   "execution_count": 8,
   "metadata": {
    "collapsed": false
   },
   "outputs": [
    {
     "name": "stdout",
     "output_type": "stream",
     "text": [
      "120\n"
     ]
    }
   ],
   "source": [
    "def fac(n):\n",
    "    n = 5\n",
    "    r = 1\n",
    "    while n != 0:\n",
    "        r = r * n\n",
    "        n = n - 1\n",
    "    return r\n",
    "\n",
    "print(fac(4))"
   ]
  },
  {
   "cell_type": "markdown",
   "metadata": {},
   "source": [
    "1.1.9 - 1.1.10 Последовательность Фибоначчи определяется так: a0 = 0, a1 =\n",
    "1, ak = ak-1 + ak-2 при k2. Дано n, вычислить an."
   ]
  },
  {
   "cell_type": "code",
   "execution_count": 9,
   "metadata": {
    "collapsed": false
   },
   "outputs": [
    {
     "name": "stdout",
     "output_type": "stream",
     "text": [
      "0\n",
      "1\n",
      "1\n",
      "2\n",
      "3\n",
      "5\n",
      "8\n",
      "13\n",
      "21\n"
     ]
    }
   ],
   "source": [
    "def fib(n):\n",
    "    k = 2 \n",
    "    a = [0,1]\n",
    "    while k <= n:\n",
    "        a.append( a[k-1] + a[k-2] )\n",
    "        k += 1\n",
    "    return a[n]\n",
    "\n",
    "for i in range(0,9):\n",
    "    print(fib(i))"
   ]
  },
  {
   "cell_type": "code",
   "execution_count": 10,
   "metadata": {
    "collapsed": true
   },
   "outputs": [],
   "source": [
    "import numpy as np"
   ]
  },
  {
   "cell_type": "code",
   "execution_count": 11,
   "metadata": {
    "collapsed": false
   },
   "outputs": [
    {
     "name": "stdout",
     "output_type": "stream",
     "text": [
      "[[1 1]\n",
      " [1 0]]\n",
      "[[21 13]\n",
      " [13  8]]\n"
     ]
    }
   ],
   "source": [
    "# за C*log(n) матричных умножений\n",
    "def matrix_fib(n):\n",
    "    a = np.matrix('1 1; 1 0')\n",
    "    k = n\n",
    "    b = np.matrix('1 0; 0 1')\n",
    "    c = a\n",
    "    while k != 0:\n",
    "        if n % 2 == 0:\n",
    "            c = c * c\n",
    "            k = k / 2\n",
    "        else:\n",
    "            b = b * c\n",
    "            k = k - 1\n",
    "\n",
    "    return b\n",
    "\n",
    "a = np.matrix('1 1; 1 0')\n",
    "n = 7\n",
    "print(a)\n",
    "print(matrix_fib(n))"
   ]
  },
  {
   "cell_type": "markdown",
   "metadata": {},
   "source": [
    "1.1.11 - 1.1.12 Дано натуральное n, вычислить Sum{ 1/i! } i = 0..n"
   ]
  },
  {
   "cell_type": "code",
   "execution_count": 12,
   "metadata": {
    "collapsed": false
   },
   "outputs": [
    {
     "name": "stdout",
     "output_type": "stream",
     "text": [
      "2.708333333333333\n"
     ]
    }
   ],
   "source": [
    "def smart_series_sum(n):\n",
    "    k = 0 \n",
    "    last = 1\n",
    "    result = last\n",
    "    while k < n:\n",
    "        k += 1\n",
    "        last = last/k\n",
    "        result += last    \n",
    "    return result\n",
    "\n",
    "print(smart_series_sum(4))"
   ]
  },
  {
   "cell_type": "markdown",
   "metadata": {},
   "source": [
    "1.1.20-1.1.21. Составить программу, печатающую квадраты всех натуральных чисел от 0 до заданного натурального n. Использовать из арифметических операций лишь сложение и вычитание, причем общее число действий дол- жно быть порядка n."
   ]
  },
  {
   "cell_type": "code",
   "execution_count": 13,
   "metadata": {
    "collapsed": false
   },
   "outputs": [
    {
     "name": "stdout",
     "output_type": "stream",
     "text": [
      "0\n",
      "1\n",
      "4\n",
      "9\n",
      "16\n",
      "25\n"
     ]
    }
   ],
   "source": [
    "# (k-1)^2 = k^2-2k+1 => k^2 = (k-1)^2+2k-1\n",
    "\n",
    "def print_squares(n):\n",
    "    k   = 0\n",
    "    k_2 = 0\n",
    "    print(k_2)\n",
    "    while k != n: \n",
    "        k += 1\n",
    "        k_2 = k_2 + k+k - 1\n",
    "        print(k_2)\n",
    "\n",
    "print_squares(5)"
   ]
  },
  {
   "cell_type": "markdown",
   "metadata": {},
   "source": [
    "1.1.22. Составить программу, печатающую разложение на простые множители заданного натурального числа n > 0."
   ]
  },
  {
   "cell_type": "code",
   "execution_count": 14,
   "metadata": {
    "collapsed": false
   },
   "outputs": [
    {
     "name": "stdout",
     "output_type": "stream",
     "text": [
      "2\n",
      "3\n",
      "3\n",
      "5\n",
      "7\n",
      "13\n",
      "17\n",
      "139236 operations\n"
     ]
    }
   ],
   "source": [
    "def prime_factorization(n):\n",
    "    k = 2\n",
    "    i = 1\n",
    "    lasting = n\n",
    "    while k != n:\n",
    "        if lasting % k == 0:\n",
    "            print(k)\n",
    "            lasting = lasting / k\n",
    "        else:\n",
    "            k = k+1\n",
    "        i+=1\n",
    "    print('{} operations'.format(i))\n",
    "\n",
    "prime_factorization((17*2*5*7*9*13))         "
   ]
  },
  {
   "cell_type": "code",
   "execution_count": 15,
   "metadata": {
    "collapsed": false
   },
   "outputs": [
    {
     "name": "stdout",
     "output_type": "stream",
     "text": [
      "4.12310562562\n"
     ]
    }
   ],
   "source": [
    "\n",
    "print(np.sqrt(17))"
   ]
  },
  {
   "cell_type": "code",
   "execution_count": 16,
   "metadata": {
    "collapsed": false
   },
   "outputs": [
    {
     "name": "stdout",
     "output_type": "stream",
     "text": [
      "2\n",
      "3\n",
      "3\n",
      "5\n",
      "13 operations\n"
     ]
    }
   ],
   "source": [
    "def smart_prime_factorization(n):\n",
    "    k = 2\n",
    "    i = 1\n",
    "    lasting = n\n",
    "    while k*k < n:\n",
    "        if lasting % k == 0:\n",
    "            print(k)\n",
    "            lasting = lasting / k\n",
    "        else:\n",
    "            k = k+1\n",
    "        i += 1\n",
    "    print('{} operations'.format(i))\n",
    "\n",
    "smart_prime_factorization((2*5*9))  "
   ]
  }
 ],
 "metadata": {
  "kernelspec": {
   "display_name": "Python 3",
   "language": "python",
   "name": "python3"
  },
  "language_info": {
   "codemirror_mode": {
    "name": "ipython",
    "version": 3
   },
   "file_extension": ".py",
   "mimetype": "text/x-python",
   "name": "python",
   "nbconvert_exporter": "python",
   "pygments_lexer": "ipython3",
   "version": "3.4.4"
  }
 },
 "nbformat": 4,
 "nbformat_minor": 0
}
