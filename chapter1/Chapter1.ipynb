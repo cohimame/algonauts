{
 "cells": [
  {
   "cell_type": "markdown",
   "metadata": {},
   "source": [
    "\"Программирование: теоремы и задачи\" by А. Шень.\n",
    "=="
   ]
  },
  {
   "cell_type": "code",
   "execution_count": 7,
   "metadata": {
    "collapsed": true
   },
   "outputs": [],
   "source": [
    "import numpy as np"
   ]
  },
  {
   "cell_type": "markdown",
   "metadata": {},
   "source": [
    "1. Переменные, выражения, присваивания.\n",
    "--"
   ]
  },
  {
   "cell_type": "markdown",
   "metadata": {},
   "source": [
    "1.1.1-1.1.2 Даны две целые переменные a, b. Составить фрагмент программы,\n",
    "после исполнения которого значения переменных поменялись бы местами."
   ]
  },
  {
   "cell_type": "code",
   "execution_count": null,
   "metadata": {
    "collapsed": false
   },
   "outputs": [],
   "source": [
    "a = 12\n",
    "b = 13\n",
    "\n",
    "t = a\n",
    "a = b\n",
    "b = t\n",
    "print(a,b)"
   ]
  },
  {
   "cell_type": "code",
   "execution_count": null,
   "metadata": {
    "collapsed": false
   },
   "outputs": [],
   "source": [
    "# python way\n",
    "a,b = b,a\n",
    "print(a,b)"
   ]
  },
  {
   "cell_type": "code",
   "execution_count": null,
   "metadata": {
    "collapsed": false
   },
   "outputs": [],
   "source": [
    "# без доп. переменных\n",
    "a = a + b \n",
    "b = a - b # == a\n",
    "a = a - b # == b \n",
    "print(a,b)"
   ]
  },
  {
   "cell_type": "markdown",
   "metadata": {},
   "source": [
    "1.1.3-1.1.4 Дано целое число а и натуральное число n. Вычислить a^n."
   ]
  },
  {
   "cell_type": "code",
   "execution_count": null,
   "metadata": {
    "collapsed": false
   },
   "outputs": [],
   "source": [
    "a = 2\n",
    "n = 7\n",
    "\n",
    "b = 1\n",
    "for k in range(1,n+1):\n",
    "   b = b*a\n",
    "print(b)"
   ]
  },
  {
   "cell_type": "code",
   "execution_count": null,
   "metadata": {
    "collapsed": false
   },
   "outputs": [],
   "source": [
    "2 % 2"
   ]
  },
  {
   "cell_type": "code",
   "execution_count": null,
   "metadata": {
    "collapsed": false
   },
   "outputs": [],
   "source": [
    "# за C*log(n) действий\n",
    "a = 2\n",
    "n = 7\n",
    "\n",
    "k = n\n",
    "b = 1\n",
    "c = a\n",
    "\n",
    "print('{}^{} =={}*{}^{}'.format(a,n,b,c,k))\n",
    "while k != 0:\n",
    "    if n % 2 == 0:\n",
    "        c = c * c\n",
    "        k = k / 2\n",
    "    else:\n",
    "        b = b * c\n",
    "        k = k - 1\n",
    "    print('{}^{} =={}*{}^{}'.format(a,n,b,c,k))"
   ]
  },
  {
   "cell_type": "markdown",
   "metadata": {},
   "source": [
    "1.1.7. Дано натуральное число а и целое положительное число d. Вычислить частное q и остаток r при делении а на d, не используя операций div и mod."
   ]
  },
  {
   "cell_type": "code",
   "execution_count": null,
   "metadata": {
    "collapsed": false
   },
   "outputs": [],
   "source": [
    "# a = q*d + r\n",
    "a = 17\n",
    "d = 5\n",
    "\n",
    "q = 0\n",
    "r = a\n",
    "while r >= d:\n",
    "    r = r - d\n",
    "    q = q + 1\n",
    "\n",
    "print('{} =={}*{}+{}'.format(a,q,d,r)) "
   ]
  },
  {
   "cell_type": "markdown",
   "metadata": {},
   "source": [
    "1.1.8. Дано натуральное n, вычислить n! (0! = 1, n! = n · (n − 1)!)."
   ]
  },
  {
   "cell_type": "code",
   "execution_count": null,
   "metadata": {
    "collapsed": false
   },
   "outputs": [],
   "source": [
    "def fac(n):\n",
    "    n = 5\n",
    "    r = 1\n",
    "    while n != 0:\n",
    "        r = r * n\n",
    "        n = n - 1\n",
    "    return r\n",
    "\n",
    "print(fac(4))"
   ]
  },
  {
   "cell_type": "markdown",
   "metadata": {},
   "source": [
    "1.1.9 - 1.1.10 Последовательность Фибоначчи определяется так: a0 = 0, a1 =\n",
    "1, ak = ak-1 + ak-2 при k2. Дано n, вычислить an."
   ]
  },
  {
   "cell_type": "code",
   "execution_count": null,
   "metadata": {
    "collapsed": false
   },
   "outputs": [],
   "source": [
    "def fib(n):\n",
    "    k = 2 \n",
    "    a = [0,1]\n",
    "    while k <= n:\n",
    "        a.append( a[k-1] + a[k-2] )\n",
    "        k += 1\n",
    "    return a[n]\n",
    "\n",
    "for i in range(0,9):\n",
    "    print(fib(i))"
   ]
  },
  {
   "cell_type": "code",
   "execution_count": null,
   "metadata": {
    "collapsed": false
   },
   "outputs": [],
   "source": [
    "# за C*log(n) матричных умножений\n",
    "def matrix_fib(n):\n",
    "    a = np.matrix('1 1; 1 0')\n",
    "    k = n\n",
    "    b = np.matrix('1 0; 0 1')\n",
    "    c = a\n",
    "    while k != 0:\n",
    "        if n % 2 == 0:\n",
    "            c = c * c\n",
    "            k = k / 2\n",
    "        else:\n",
    "            b = b * c\n",
    "            k = k - 1\n",
    "\n",
    "    return b\n",
    "\n",
    "a = np.matrix('1 1; 1 0')\n",
    "n = 7\n",
    "print(a)\n",
    "print(matrix_fib(n))"
   ]
  },
  {
   "cell_type": "markdown",
   "metadata": {},
   "source": [
    "1.1.11 - 1.1.12 Дано натуральное n, вычислить Sum{ 1/i! } i = 0..n"
   ]
  },
  {
   "cell_type": "code",
   "execution_count": null,
   "metadata": {
    "collapsed": false
   },
   "outputs": [],
   "source": [
    "def smart_series_sum(n):\n",
    "    k = 0 \n",
    "    last = 1\n",
    "    result = last\n",
    "    while k < n:\n",
    "        k += 1\n",
    "        last = last/k\n",
    "        result += last    \n",
    "    return result\n",
    "\n",
    "print(smart_series_sum(4))"
   ]
  },
  {
   "cell_type": "markdown",
   "metadata": {},
   "source": [
    "1.1.20-1.1.21. Составить программу, печатающую квадраты всех натуральных чисел от 0 до заданного натурального n. Использовать из арифметических операций лишь сложение и вычитание, причем общее число действий дол- жно быть порядка n."
   ]
  },
  {
   "cell_type": "code",
   "execution_count": null,
   "metadata": {
    "collapsed": false
   },
   "outputs": [],
   "source": [
    "# (k-1)^2 = k^2-2k+1 => k^2 = (k-1)^2+2k-1\n",
    "\n",
    "def print_squares(n):\n",
    "    k   = 0\n",
    "    k_2 = 0\n",
    "    print(k_2)\n",
    "    while k != n: \n",
    "        k += 1\n",
    "        k_2 = k_2 + k+k - 1\n",
    "        print(k_2)\n",
    "\n",
    "print_squares(5)"
   ]
  },
  {
   "cell_type": "markdown",
   "metadata": {},
   "source": [
    "1.1.22. Составить программу, печатающую разложение на простые множители заданного натурального числа n > 0."
   ]
  },
  {
   "cell_type": "code",
   "execution_count": null,
   "metadata": {
    "collapsed": false
   },
   "outputs": [],
   "source": [
    "def prime_factorization(n):\n",
    "    k = 2\n",
    "    i = 1\n",
    "    lasting = n\n",
    "    while k != n:\n",
    "        if lasting % k == 0:\n",
    "            print(k)\n",
    "            lasting = lasting / k\n",
    "        else:\n",
    "            k = k+1\n",
    "        i+=1\n",
    "    print('{} operations'.format(i))\n",
    "\n",
    "prime_factorization((17*2*5*7*9*13))         "
   ]
  },
  {
   "cell_type": "code",
   "execution_count": null,
   "metadata": {
    "collapsed": false
   },
   "outputs": [],
   "source": [
    "\n",
    "print(np.sqrt(17))"
   ]
  },
  {
   "cell_type": "code",
   "execution_count": null,
   "metadata": {
    "collapsed": false
   },
   "outputs": [],
   "source": [
    "def smart_prime_factorization(n):\n",
    "    k = 2\n",
    "    i = 1\n",
    "    lasting = n\n",
    "    while k*k < n:\n",
    "        if lasting % k == 0:\n",
    "            print(k)\n",
    "            lasting = lasting / k\n",
    "        else:\n",
    "            k = k+1\n",
    "        i += 1\n",
    "    print('{} operations'.format(i))\n",
    "\n",
    "smart_prime_factorization((17*2*5*7*9*13))  "
   ]
  },
  {
   "cell_type": "markdown",
   "metadata": {},
   "source": [
    "1.1.26.Составить программу, печатающую десятичную запись заданного натурального числа n > 0. "
   ]
  },
  {
   "cell_type": "code",
   "execution_count": null,
   "metadata": {
    "collapsed": false
   },
   "outputs": [],
   "source": [
    "def numbers(n):\n",
    "    base = 1\n",
    "    while 10*base < n:\n",
    "        base = base * 10\n",
    "    while base > 1:\n",
    "        print(int(n // base))\n",
    "        n = n % base\n",
    "        base /= 10\n",
    "    print(int(n))\n",
    "        \n",
    "numbers(1234)"
   ]
  },
  {
   "cell_type": "markdown",
   "metadata": {},
   "source": [
    "1.1.28. Дано натуральное n. Подсчитать количество решений неравенства x^2 + y^2 < n в натуральных числах, не используя действий с вещественными числами."
   ]
  },
  {
   "cell_type": "code",
   "execution_count": null,
   "metadata": {
    "collapsed": true
   },
   "outputs": [],
   "source": [
    "def solutions(n):\n",
    "    x = 0\n",
    "    y = 0\n",
    "    "
   ]
  },
  {
   "cell_type": "markdown",
   "metadata": {},
   "source": [
    "1.1.32. Дана функция f: {1...N} → {1...N}. Найти период последовательности 1,f(1),f(f(1),... Количество действий должно быть пропорционально суммарной длине предпериода и периода (эта сумма может быть существенно меньше N)."
   ]
  },
  {
   "cell_type": "code",
   "execution_count": null,
   "metadata": {
    "collapsed": false
   },
   "outputs": [],
   "source": [
    "periodic_func_1 = lambda k: 1 + k % 17"
   ]
  },
  {
   "cell_type": "code",
   "execution_count": null,
   "metadata": {
    "collapsed": false
   },
   "outputs": [],
   "source": [
    "def cycle(n,f):\n",
    "    result = 1\n",
    "    for i in range(1,n):\n",
    "        result = f(result)\n",
    "    return result"
   ]
  },
  {
   "cell_type": "code",
   "execution_count": null,
   "metadata": {
    "collapsed": false
   },
   "outputs": [],
   "source": [
    "for i in range(1,36):\n",
    "    print(cycle(i,periodic_func_1))"
   ]
  },
  {
   "cell_type": "code",
   "execution_count": null,
   "metadata": {
    "collapsed": false
   },
   "outputs": [],
   "source": [
    "def find_period(f):\n",
    "    k = 1\n",
    "    a = f(1)\n",
    "    b = f(f(1))\n",
    "    while a!=b:\n",
    "        k+=1\n",
    "        a = f(a)\n",
    "        b = f(f(b))\n",
    "    \n",
    "    l = 1\n",
    "    b = f(a) # k+1 шаг\n",
    "    while a!=b:\n",
    "        l = l+1\n",
    "        b = f(b)\n",
    "    \n",
    "    return l\n",
    "    \n",
    "    \n",
    "\n",
    "find_period(periodic_func)"
   ]
  },
  {
   "cell_type": "markdown",
   "metadata": {},
   "source": [
    "## 2. Массивы"
   ]
  },
  {
   "cell_type": "markdown",
   "metadata": {},
   "source": [
    "1.2.5. Дан массив x: array[1..n] of integer, причем x[1]<=x[2]<=...<=x[n] Найти количество различных чисел среди элементов этого массива."
   ]
  },
  {
   "cell_type": "code",
   "execution_count": 5,
   "metadata": {
    "collapsed": false
   },
   "outputs": [
    {
     "name": "stdout",
     "output_type": "stream",
     "text": [
      "False\n",
      "False\n",
      "True\n",
      "False\n",
      "True\n",
      "False\n",
      "True\n",
      "False\n",
      "True\n",
      "False\n",
      "False\n",
      "False\n",
      "False\n",
      "5\n"
     ]
    }
   ],
   "source": [
    "array = [1,1,1,2,2,3,3,4,4,5,5,5,5,5]\n",
    "n = len(array)\n",
    "\n",
    "def uniq(arr,n):\n",
    "    uniq_number = 1\n",
    "    for i in range(1,n):\n",
    "        print(arr[i-1] != arr[i])\n",
    "        if arr[i-1] != arr[i]:\n",
    "            uniq_number+=1\n",
    "    return uniq_number\n",
    "\n",
    "print(uniq(array,n))\n",
    "    "
   ]
  },
  {
   "cell_type": "markdown",
   "metadata": {},
   "source": [
    "1.2.6. Прямоугольное поле m×n разбито на mn квадратных клеток. Некоторые клетки покрашены в чёрный цвет. Известно, что все чёрные клетки могут быть разбиты на несколько непересекающихся и не имеющих общих вершин чёрных прямоугольников. Подсчитать число чёрных прямоугольников, о которых шла речь. Число действий должно быть порядка mn."
   ]
  },
  {
   "cell_type": "code",
   "execution_count": 24,
   "metadata": {
    "collapsed": false
   },
   "outputs": [
    {
     "name": "stdout",
     "output_type": "stream",
     "text": [
      "[[1 1 0 0]\n",
      " [0 0 1 1]\n",
      " [1 1 0 0]]\n"
     ]
    }
   ],
   "source": [
    "random_field = np.matrix(\n",
    "    '1 1 0 0; 0 0 1 1; 1 1 0 0'\n",
    ")\n",
    "print(random_field)"
   ]
  },
  {
   "cell_type": "code",
   "execution_count": 25,
   "metadata": {
    "collapsed": false
   },
   "outputs": [
    {
     "data": {
      "text/plain": [
       "3"
      ]
     },
     "execution_count": 25,
     "metadata": {},
     "output_type": "execute_result"
    }
   ],
   "source": [
    "def count_black_rectangles(a):\n",
    "    def is_left_corner(m,i,j):\n",
    "        if a[i,j]==1:\n",
    "            if i==0:\n",
    "                if j==0:\n",
    "                    return True\n",
    "                else:\n",
    "                    if a[i,j-1]==1:\n",
    "                        return False\n",
    "                    else:\n",
    "                        return True\n",
    "            else:\n",
    "                if j==0:\n",
    "                    if a[i-1,j]==1:\n",
    "                        return False\n",
    "                    else:\n",
    "                        return True\n",
    "                else:\n",
    "                    if a[i-1,j]==1 or a[i,j-1]==1:\n",
    "                        return False\n",
    "                    else:\n",
    "                        return True       \n",
    "        else:\n",
    "            return False\n",
    "        \n",
    "    n,m = a.shape\n",
    "    \n",
    "    recnum = 0\n",
    "    for i in range(0,n):\n",
    "        for j in range(0,m):\n",
    "            if is_left_corner(a,i,j):\n",
    "                recnum +=1\n",
    "    return recnum\n",
    "    \n",
    "    \n",
    "count_black_rectangles(random_field)"
   ]
  },
  {
   "cell_type": "code",
   "execution_count": null,
   "metadata": {
    "collapsed": true
   },
   "outputs": [],
   "source": []
  }
 ],
 "metadata": {
  "kernelspec": {
   "display_name": "Python 3",
   "language": "python",
   "name": "python3"
  },
  "language_info": {
   "codemirror_mode": {
    "name": "ipython",
    "version": 3
   },
   "file_extension": ".py",
   "mimetype": "text/x-python",
   "name": "python",
   "nbconvert_exporter": "python",
   "pygments_lexer": "ipython3",
   "version": "3.4.4"
  }
 },
 "nbformat": 4,
 "nbformat_minor": 0
}
