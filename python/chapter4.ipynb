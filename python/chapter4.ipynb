{
 "cells": [
  {
   "cell_type": "markdown",
   "metadata": {},
   "source": [
    "Глава 4. Сортировки"
   ]
  },
  {
   "cell_type": "markdown",
   "metadata": {},
   "source": [
    "4.1.1. Пусть a[1],...,a[n] — целые числа. \n",
    "Требуется построить массив b[1],...,b[n], содержащий те же числа, для которого b[1]<,...,<b[n]."
   ]
  },
  {
   "cell_type": "code",
   "execution_count": 7,
   "metadata": {
    "collapsed": false
   },
   "outputs": [
    {
     "name": "stdout",
     "output_type": "stream",
     "text": [
      "[8, 12, 5, 6, 1, 9, 3, 8, 1]\n",
      "[8, 12, 5, 6, 1, 9, 3, 8, 1]\n",
      "[8, 5, 12, 6, 1, 9, 3, 8, 1]\n",
      "[8, 5, 6, 12, 1, 9, 3, 8, 1]\n",
      "[8, 5, 6, 1, 12, 9, 3, 8, 1]\n",
      "[8, 5, 6, 1, 9, 12, 3, 8, 1]\n",
      "[8, 5, 6, 1, 9, 3, 12, 8, 1]\n",
      "[8, 5, 6, 1, 9, 3, 8, 12, 1]\n",
      "[8, 5, 6, 1, 9, 3, 8, 1, 12]\n",
      "\n",
      "[5, 8, 6, 1, 9, 3, 8, 1, 12]\n",
      "[5, 6, 8, 1, 9, 3, 8, 1, 12]\n",
      "[5, 6, 1, 8, 9, 3, 8, 1, 12]\n",
      "[5, 6, 1, 8, 9, 3, 8, 1, 12]\n",
      "[5, 6, 1, 8, 3, 9, 8, 1, 12]\n",
      "[5, 6, 1, 8, 3, 8, 9, 1, 12]\n",
      "[5, 6, 1, 8, 3, 8, 1, 9, 12]\n",
      "\n",
      "[5, 6, 1, 8, 3, 8, 1, 9, 12]\n",
      "[5, 1, 6, 8, 3, 8, 1, 9, 12]\n",
      "[5, 1, 6, 8, 3, 8, 1, 9, 12]\n",
      "[5, 1, 6, 3, 8, 8, 1, 9, 12]\n",
      "[5, 1, 6, 3, 8, 8, 1, 9, 12]\n",
      "[5, 1, 6, 3, 8, 1, 8, 9, 12]\n",
      "\n",
      "[1, 5, 6, 3, 8, 1, 8, 9, 12]\n",
      "[1, 5, 6, 3, 8, 1, 8, 9, 12]\n",
      "[1, 5, 3, 6, 8, 1, 8, 9, 12]\n",
      "[1, 5, 3, 6, 8, 1, 8, 9, 12]\n",
      "[1, 5, 3, 6, 1, 8, 8, 9, 12]\n",
      "\n",
      "[1, 5, 3, 6, 1, 8, 8, 9, 12]\n",
      "[1, 3, 5, 6, 1, 8, 8, 9, 12]\n",
      "[1, 3, 5, 6, 1, 8, 8, 9, 12]\n",
      "[1, 3, 5, 1, 6, 8, 8, 9, 12]\n",
      "\n",
      "[1, 3, 5, 1, 6, 8, 8, 9, 12]\n",
      "[1, 3, 5, 1, 6, 8, 8, 9, 12]\n",
      "[1, 3, 1, 5, 6, 8, 8, 9, 12]\n",
      "\n",
      "[1, 3, 1, 5, 6, 8, 8, 9, 12]\n",
      "[1, 1, 3, 5, 6, 8, 8, 9, 12]\n",
      "\n",
      "[1, 1, 3, 5, 6, 8, 8, 9, 12]\n",
      "\n",
      "\n"
     ]
    }
   ],
   "source": [
    "arr = [8,12,5,6,1,9,3,8,1]\n",
    "\n",
    "def bubble_sort(a):\n",
    "    for i in reversed(range(len(a))):\n",
    "        for j in range(1, i + 1):\n",
    "            if a[j-1] > a[j]:\n",
    "                a[j], a[j-1] = a[j-1], a[j]\n",
    "            print(a)\n",
    "        print()\n",
    "print(arr)                \n",
    "bubble_sort(arr)"
   ]
  },
  {
   "cell_type": "markdown",
   "metadata": {},
   "source": [
    "## Алгоритмы порядка nlogn\n",
    "\n",
    "4.2.1. Сортировка слиянием"
   ]
  },
  {
   "cell_type": "code",
   "execution_count": 14,
   "metadata": {
    "collapsed": false
   },
   "outputs": [
    {
     "data": {
      "text/plain": [
       "[1, 2, 3, 4, 4, 4, 6, 6, 7, 9, 10]"
      ]
     },
     "execution_count": 14,
     "metadata": {},
     "output_type": "execute_result"
    }
   ],
   "source": [
    "def merge(a,b):\n",
    "    c = []\n",
    "    i,j = 0,0\n",
    "    while i<len(a) and j<len(b):\n",
    "        if a[i]<b[j]:\n",
    "            c.append(a[i])\n",
    "            i+=1\n",
    "        else:\n",
    "            c.append(b[j])\n",
    "            j+=1       \n",
    "    while i<len(a):\n",
    "        c.append(a[i])\n",
    "        i+=1\n",
    "    while j<len(b):\n",
    "        c.append(b[j])\n",
    "        j+=1\n",
    "    return c\n",
    "\n",
    "merge([1,4,6,9],[2,3,4,4,6,7,10])"
   ]
  },
  {
   "cell_type": "code",
   "execution_count": 29,
   "metadata": {
    "collapsed": false
   },
   "outputs": [
    {
     "data": {
      "text/plain": [
       "[1, 2, 4, 6, 6, 8, 9, 12]"
      ]
     },
     "execution_count": 29,
     "metadata": {},
     "output_type": "execute_result"
    }
   ],
   "source": [
    "def merge_sort(arr):\n",
    "    n = len(arr)\n",
    "    k = n // 2\n",
    "    if k == 0:\n",
    "        return arr\n",
    "    else:\n",
    "        return merge(\n",
    "            merge_sort(arr[:k]),\n",
    "            merge_sort(arr[k:]))\n",
    "        \n",
    "merge_sort([12,6,8,4,9,2,6,1])"
   ]
  },
  {
   "cell_type": "markdown",
   "metadata": {},
   "source": [
    "4.2.1. Сортировка деревом"
   ]
  },
  {
   "cell_type": "code",
   "execution_count": null,
   "metadata": {
    "collapsed": true
   },
   "outputs": [],
   "source": []
  },
  {
   "cell_type": "markdown",
   "metadata": {},
   "source": [
    "4.2.1. Быстрая сортировка Хоара"
   ]
  },
  {
   "cell_type": "code",
   "execution_count": null,
   "metadata": {
    "collapsed": true
   },
   "outputs": [],
   "source": [
    "import random\n",
    "\n",
    "def car_sort(array):\n",
    "    def split(arr):\n",
    "        point = random.randint(1,len(arr))\n",
    "        "
   ]
  }
 ],
 "metadata": {
  "kernelspec": {
   "display_name": "Python 3",
   "language": "python",
   "name": "python3"
  },
  "language_info": {
   "codemirror_mode": {
    "name": "ipython",
    "version": 3
   },
   "file_extension": ".py",
   "mimetype": "text/x-python",
   "name": "python",
   "nbconvert_exporter": "python",
   "pygments_lexer": "ipython3",
   "version": "3.5.1"
  }
 },
 "nbformat": 4,
 "nbformat_minor": 0
}
