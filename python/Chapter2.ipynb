{
 "cells": [
  {
   "cell_type": "markdown",
   "metadata": {},
   "source": [
    "## Глава #2: Порождение комбинаторных объектов"
   ]
  },
  {
   "cell_type": "markdown",
   "metadata": {},
   "source": [
    "2.1.1-2. Напечатать все последовательности длины k из чисел 1..n."
   ]
  },
  {
   "cell_type": "code",
   "execution_count": 1,
   "metadata": {
    "collapsed": false
   },
   "outputs": [],
   "source": [
    "seq = lambda k,n: [k for i in range(1,n+1)]"
   ]
  },
  {
   "cell_type": "code",
   "execution_count": 2,
   "metadata": {
    "collapsed": false
   },
   "outputs": [
    {
     "name": "stdout",
     "output_type": "stream",
     "text": [
      "[1, 1, 1]\n",
      "[2, 1, 1]\n",
      "[3, 1, 1]\n",
      "[4, 1, 1]\n",
      "[1, 2, 1]\n",
      "[2, 2, 1]\n",
      "[3, 2, 1]\n",
      "[4, 2, 1]\n",
      "[1, 3, 1]\n",
      "[2, 3, 1]\n",
      "[3, 3, 1]\n",
      "[4, 3, 1]\n",
      "[1, 4, 1]\n",
      "[2, 4, 1]\n",
      "[3, 4, 1]\n",
      "[4, 4, 1]\n",
      "[1, 1, 2]\n",
      "[2, 1, 2]\n",
      "[3, 1, 2]\n",
      "[4, 1, 2]\n",
      "[1, 2, 2]\n",
      "[2, 2, 2]\n",
      "[3, 2, 2]\n",
      "[4, 2, 2]\n",
      "[1, 3, 2]\n",
      "[2, 3, 2]\n",
      "[3, 3, 2]\n",
      "[4, 3, 2]\n",
      "[1, 4, 2]\n",
      "[2, 4, 2]\n",
      "[3, 4, 2]\n",
      "[4, 4, 2]\n",
      "[1, 1, 3]\n",
      "[2, 1, 3]\n",
      "[3, 1, 3]\n",
      "[4, 1, 3]\n",
      "[1, 2, 3]\n",
      "[2, 2, 3]\n",
      "[3, 2, 3]\n",
      "[4, 2, 3]\n",
      "[1, 3, 3]\n",
      "[2, 3, 3]\n",
      "[3, 3, 3]\n",
      "[4, 3, 3]\n",
      "[1, 4, 3]\n",
      "[2, 4, 3]\n",
      "[3, 4, 3]\n",
      "[4, 4, 3]\n",
      "[1, 1, 4]\n"
     ]
    }
   ],
   "source": [
    "n = 4\n",
    "k = 3\n",
    "\n",
    "def increment(x):\n",
    "    pos = 0\n",
    "    while x[pos] == n:\n",
    "        pos+=1\n",
    "    x[pos] += 1\n",
    "    for i in range(0,pos):\n",
    "        x[i]=1\n",
    "   \n",
    "x    = seq(1,k)\n",
    "last = seq(n,k)\n",
    "\n",
    "print(x)\n",
    "while x[-1] != last[-1]:\n",
    "    increment(x)\n",
    "    print(x)"
   ]
  },
  {
   "cell_type": "markdown",
   "metadata": {},
   "source": [
    "2.1.3. Напечатать все подмножества множества 1...k."
   ]
  },
  {
   "cell_type": "code",
   "execution_count": 3,
   "metadata": {
    "collapsed": false
   },
   "outputs": [
    {
     "name": "stdout",
     "output_type": "stream",
     "text": [
      "\n",
      "0\n",
      "1\n",
      "01\n",
      "2\n",
      "02\n",
      "12\n",
      "012\n",
      "3\n",
      "03\n",
      "13\n",
      "013\n",
      "23\n",
      "023\n",
      "123\n",
      "0123\n",
      "4\n"
     ]
    }
   ],
   "source": [
    "k=5\n",
    "source = list(range(0, k+1))\n",
    "\n",
    "def subsets(_set):\n",
    "    curr = seq(0,k)\n",
    "    last = seq(1,k)\n",
    "    \n",
    "    def prnt(_set):\n",
    "        for i in range(0,len(_set)-1):\n",
    "            if curr[i]==1:\n",
    "                print(_set[i],end='')\n",
    "        print()\n",
    "            \n",
    "    \n",
    "    def increment(x):\n",
    "        pos = 0\n",
    "        while x[pos] == 1:\n",
    "            pos+=1\n",
    "        x[pos]+=1\n",
    "        for i in range(0,pos):\n",
    "            x[i]=0\n",
    "        \n",
    "    prnt(source)\n",
    "    while curr[-1] != last[-1]:\n",
    "        increment(curr)\n",
    "        prnt(source)\n",
    "    \n",
    "subsets(source)"
   ]
  },
  {
   "cell_type": "markdown",
   "metadata": {},
   "source": [
    "2.1.4. Напечатать все последовательности положительных целых чисел\n",
    "длины k, у которых i-ый член не превосходит i."
   ]
  },
  {
   "cell_type": "code",
   "execution_count": 6,
   "metadata": {
    "collapsed": false
   },
   "outputs": [
    {
     "name": "stdout",
     "output_type": "stream",
     "text": [
      "[0, 1, 2, 3]\n",
      "[0, 0, 0, 0]\n",
      "[0, 1, 0, 0]\n",
      "[0, 0, 1, 0]\n",
      "[0, 1, 1, 0]\n",
      "[0, 0, 2, 0]\n",
      "[0, 1, 2, 0]\n",
      "[0, 0, 0, 1]\n",
      "[0, 1, 0, 1]\n",
      "[0, 0, 1, 1]\n",
      "[0, 1, 1, 1]\n",
      "[0, 0, 2, 1]\n",
      "[0, 1, 2, 1]\n",
      "[0, 0, 0, 2]\n",
      "[0, 1, 0, 2]\n",
      "[0, 0, 1, 2]\n",
      "[0, 1, 1, 2]\n",
      "[0, 0, 2, 2]\n",
      "[0, 1, 2, 2]\n",
      "[0, 0, 0, 3]\n",
      "[0, 1, 0, 3]\n",
      "[0, 0, 1, 3]\n",
      "[0, 1, 1, 3]\n",
      "[0, 0, 2, 3]\n",
      "[0, 1, 2, 3]\n"
     ]
    }
   ],
   "source": [
    "k = 4\n",
    "\n",
    "def increment(x):\n",
    "    pos = 0\n",
    "    while x[pos]==pos:\n",
    "        pos+=1\n",
    "    x[pos]+=1\n",
    "    for i in range(0,pos):\n",
    "        x[i]=0\n",
    "   \n",
    "x    = seq(0,k)\n",
    "last = list(range(0,k))\n",
    "print(last)\n",
    "print(x)\n",
    "while x != last:\n",
    "    increment(x)\n",
    "    print(x)"
   ]
  },
  {
   "cell_type": "markdown",
   "metadata": {},
   "source": [
    "### Перестановки\n",
    "\n",
    "2.2.1. Напечатать все перестановки чисел 1..n (то есть последовательности длины n, в которые каждое из этих чисел входит по одному разу)"
   ]
  },
  {
   "cell_type": "code",
   "execution_count": null,
   "metadata": {
    "collapsed": true
   },
   "outputs": [],
   "source": []
  },
  {
   "cell_type": "code",
   "execution_count": null,
   "metadata": {
    "collapsed": true
   },
   "outputs": [],
   "source": []
  }
 ],
 "metadata": {
  "kernelspec": {
   "display_name": "Python 3",
   "language": "python",
   "name": "python3"
  },
  "language_info": {
   "codemirror_mode": {
    "name": "ipython",
    "version": 3
   },
   "file_extension": ".py",
   "mimetype": "text/x-python",
   "name": "python",
   "nbconvert_exporter": "python",
   "pygments_lexer": "ipython3",
   "version": "3.5.1"
  }
 },
 "nbformat": 4,
 "nbformat_minor": 0
}
