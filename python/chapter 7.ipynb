{
 "cells": [
  {
   "cell_type": "markdown",
   "metadata": {},
   "source": [
    "# Глава 7. Рекурсия"
   ]
  },
  {
   "cell_type": "markdown",
   "metadata": {},
   "source": [
    "7.1.3.-7.1.4. Напишите рекурсивную программу возведения в целую неотрицательную степень. То же, если требуется, чтобы глубина рекурсии не превосходила C*log n, где n - степень."
   ]
  },
  {
   "cell_type": "code",
   "execution_count": 8,
   "metadata": {
    "collapsed": false
   },
   "outputs": [
    {
     "data": {
      "text/plain": [
       "32"
      ]
     },
     "execution_count": 8,
     "metadata": {},
     "output_type": "execute_result"
    }
   ],
   "source": [
    "def power(a,n):\n",
    "    if n == 0:\n",
    "        return 1\n",
    "    elif n%2==0:\n",
    "        return power(a*a, n//2) \n",
    "    else:\n",
    "        return a*power(a, n-1)\n",
    "    \n",
    "power(2,5)"
   ]
  },
  {
   "cell_type": "markdown",
   "metadata": {},
   "source": [
    " 7.1.6. Используя лишь команды write(x) при x=0..9, написать рекурсивную программу печати десятичной  записи  целого положительного числа n."
   ]
  },
  {
   "cell_type": "code",
   "execution_count": 29,
   "metadata": {
    "collapsed": false
   },
   "outputs": [
    {
     "data": {
      "text/plain": [
       "(1234506, 0)"
      ]
     },
     "execution_count": 29,
     "metadata": {},
     "output_type": "execute_result"
    }
   ],
   "source": [
    "n = 12345060\n",
    "\n",
    "n // 10, n % 10"
   ]
  },
  {
   "cell_type": "code",
   "execution_count": 30,
   "metadata": {
    "collapsed": false
   },
   "outputs": [
    {
     "name": "stdout",
     "output_type": "stream",
     "text": [
      "1\n",
      "2\n",
      "3\n",
      "4\n",
      "5\n",
      "0\n",
      "6\n",
      "0\n"
     ]
    }
   ],
   "source": [
    "def step_print(n):\n",
    "    if n<10:\n",
    "        print(n,)\n",
    "    else:\n",
    "        step_print(n//10)\n",
    "        print(n % 10)\n",
    "step_print(n)"
   ]
  },
  {
   "cell_type": "markdown",
   "metadata": {},
   "source": [
    "7.1.7. Игра \"Ханойские башни\" состоит в следующем. Есть три стержня.  На  первый из них надета пирамидка из n колец (большие кольца снизу, меньшие сверху). Требуется переместить  кольца  на другой  стержень. Разрешается перекладывать кольца со стержня на стержень,  но класть большее кольцо поверх меньшего нельзя. Составить программу, указывающую требуемые действия."
   ]
  },
  {
   "cell_type": "code",
   "execution_count": null,
   "metadata": {
    "collapsed": true
   },
   "outputs": [],
   "source": []
  },
  {
   "cell_type": "markdown",
   "metadata": {},
   "source": [
    "#### 7.2. Рекурсивная обработка деревьев"
   ]
  },
  {
   "cell_type": "code",
   "execution_count": 22,
   "metadata": {
    "collapsed": true
   },
   "outputs": [],
   "source": [
    "class Tree:\n",
    "    def __init__(self,value,left=None,right=None):\n",
    "        self.left = None\n",
    "        self.right = None\n",
    "        self.value = value  \n",
    "    def __str__(self):\n",
    "        return \"Tree({},{},{})\".format(self.value,self.left,self.right)"
   ]
  },
  {
   "cell_type": "code",
   "execution_count": 23,
   "metadata": {
    "collapsed": false
   },
   "outputs": [
    {
     "name": "stdout",
     "output_type": "stream",
     "text": [
      "Tree(0,Tree(1,Tree(3,Tree(7,Tree(15,None,None),Tree(16,None,None)),Tree(8,Tree(17,None,None),Tree(18,None,None))),Tree(4,Tree(9,Tree(19,None,None),Tree(20,None,None)),Tree(10,Tree(21,None,None),None))),Tree(2,Tree(5,Tree(11,None,None),Tree(12,None,None)),Tree(6,Tree(13,None,None),Tree(14,None,None))))\n"
     ]
    }
   ],
   "source": [
    "def width_tree_filler(values):\n",
    "    root = Tree(values[0])\n",
    "    pos=1\n",
    "    parent_queue = [root]\n",
    "    while pos<len(values):\n",
    "        parent = parent_queue.pop()\n",
    "        parent.left = Tree(values[pos])\n",
    "        pos+=1\n",
    "        parent_queue = [parent.left] + parent_queue\n",
    "        if pos<len(values):\n",
    "            parent.right = Tree(values[pos])\n",
    "            pos+=1    \n",
    "            parent_queue = [parent.right] + parent_queue\n",
    "    return root\n",
    "        \n",
    "values = [0,1,2,3,4,5,6,7,8,9,10,11,12,13,14,15,16,17,18,19,20,21]\n",
    "root = width_tree_filler(values)\n",
    "print(root)"
   ]
  },
  {
   "cell_type": "code",
   "execution_count": 24,
   "metadata": {
    "collapsed": false
   },
   "outputs": [
    {
     "name": "stdout",
     "output_type": "stream",
     "text": [
      "0\n",
      "1\n",
      "3\n",
      "7\n",
      "15\n",
      "16\n",
      "8\n",
      "17\n",
      "18\n",
      "4\n",
      "9\n",
      "19\n",
      "20\n",
      "10\n",
      "21\n",
      "2\n",
      "5\n",
      "11\n",
      "12\n",
      "6\n",
      "13\n",
      "14\n"
     ]
    }
   ],
   "source": [
    "def depth_walk(root):\n",
    "    if root is not None:\n",
    "        print(root.value)\n",
    "        depth_walk(root.left)  \n",
    "        depth_walk(root.right)\n",
    "        \n",
    "depth_walk(root)"
   ]
  },
  {
   "cell_type": "code",
   "execution_count": 25,
   "metadata": {
    "collapsed": false
   },
   "outputs": [
    {
     "name": "stdout",
     "output_type": "stream",
     "text": [
      "0\n",
      "1\n",
      "2\n",
      "3\n",
      "4\n",
      "5\n",
      "6\n",
      "7\n",
      "8\n",
      "9\n",
      "10\n",
      "11\n",
      "12\n",
      "13\n",
      "14\n",
      "15\n",
      "16\n",
      "17\n",
      "18\n",
      "19\n",
      "20\n",
      "21\n"
     ]
    }
   ],
   "source": [
    "def width_walk(queue):\n",
    "    node = queue.pop()\n",
    "    if node is not None:\n",
    "        print(node.value)\n",
    "        queue=[node.right,node.left] + queue\n",
    "        width_walk(queue)\n",
    "        \n",
    "width_walk([root])"
   ]
  },
  {
   "cell_type": "markdown",
   "metadata": {},
   "source": [
    "7.2.2. Написать программу подсчета числа вершин в дереве."
   ]
  },
  {
   "cell_type": "code",
   "execution_count": 26,
   "metadata": {
    "collapsed": false
   },
   "outputs": [
    {
     "data": {
      "text/plain": [
       "22"
      ]
     },
     "execution_count": 26,
     "metadata": {},
     "output_type": "execute_result"
    }
   ],
   "source": [
    "def node_count(node):\n",
    "  if node is not None:\n",
    "      return node_count(node.left)+node_count(node.right)+1\n",
    "  else:\n",
    "      return 0\n",
    "\n",
    "node_count(root)      "
   ]
  },
  {
   "cell_type": "markdown",
   "metadata": {},
   "source": [
    "7.2.3. Написать программу подсчета числа листьев в дереве."
   ]
  },
  {
   "cell_type": "code",
   "execution_count": 27,
   "metadata": {
    "collapsed": false
   },
   "outputs": [
    {
     "data": {
      "text/plain": [
       "11"
      ]
     },
     "execution_count": 27,
     "metadata": {},
     "output_type": "execute_result"
    }
   ],
   "source": [
    "def leaf_count(node):\n",
    "  if node is None:\n",
    "    return 0\n",
    "  elif node.left is None and node.right is None:\n",
    "    return 1\n",
    "  else:\n",
    "    return leaf_count(node.left)+leaf_count(node.right)\n",
    "\n",
    "leaf_count(root)    "
   ]
  },
  {
   "cell_type": "markdown",
   "metadata": {},
   "source": [
    "7.2.4. Написать программу подсчета  высоты  дерева  (корень\n",
    "имеет высоту 0, его сыновья - высоту 1, внуки - 2 и т.п.; высота\n",
    "дерева - это максимум высот его вершин)."
   ]
  },
  {
   "cell_type": "code",
   "execution_count": 34,
   "metadata": {
    "collapsed": false
   },
   "outputs": [
    {
     "name": "stdout",
     "output_type": "stream",
     "text": [
      "Tree(0,Tree(1,None,None),Tree(2,None,None))\n"
     ]
    },
    {
     "data": {
      "text/plain": [
       "2"
      ]
     },
     "execution_count": 34,
     "metadata": {},
     "output_type": "execute_result"
    }
   ],
   "source": [
    "def tree_depth(node):\n",
    "    if node is None:\n",
    "        return 0\n",
    "    elif node.value is not None:\n",
    "        left  = 1+tree_depth(node.left)\n",
    "        right = 1+tree_depth(node.right)\n",
    "    if left>right:\n",
    "        return left\n",
    "    else:\n",
    "        return right\n",
    "\n",
    "values = [0,1,2,]#3,4,5,]\n",
    "root = width_tree_filler(values)\n",
    "\n",
    "print(root)\n",
    "tree_depth(root)   "
   ]
  },
  {
   "cell_type": "markdown",
   "metadata": {},
   "source": [
    "### 7.3. Порождение комбинаторных объектов, перебор"
   ]
  },
  {
   "cell_type": "code",
   "execution_count": null,
   "metadata": {
    "collapsed": true
   },
   "outputs": [],
   "source": []
  },
  {
   "cell_type": "markdown",
   "metadata": {},
   "source": [
    "### 7.4. Другие применения рекурсии"
   ]
  },
  {
   "cell_type": "markdown",
   "metadata": {},
   "source": [
    "Быстрая сортировка Хоара. В заключение приведем рекурсивный\n",
    "алгоритм сортировки массива, который на практике является  одним из  самых быстрых. Пусть дан массив a[1]..a[n]. Рекурсивная процедура  sort (l,r:integer) сортирует участок массива с индексами из полуинтервала (l,r] (т.е. a[l+1]..a[r]), не затрагивая  остального массива."
   ]
  },
  {
   "cell_type": "code",
   "execution_count": 37,
   "metadata": {
    "collapsed": true
   },
   "outputs": [],
   "source": [
    "import random"
   ]
  },
  {
   "cell_type": "code",
   "execution_count": 40,
   "metadata": {
    "collapsed": false
   },
   "outputs": [
    {
     "data": {
      "text/plain": [
       "0"
      ]
     },
     "execution_count": 40,
     "metadata": {},
     "output_type": "execute_result"
    }
   ],
   "source": [
    "random.randint(0,1)"
   ]
  },
  {
   "cell_type": "code",
   "execution_count": 108,
   "metadata": {
    "collapsed": false
   },
   "outputs": [
    {
     "name": "stdout",
     "output_type": "stream",
     "text": [
      "arr[8]=3\n",
      "(3, 5)\n",
      "[1, 1, 2, 3, 3, 3, 5, 6, 9, 5, 12, 8, 6, 14, 8]\n",
      "arr[7]=1\n",
      "(0, 1)\n",
      "[1, 1, 6, 2, 5, 3, 5, 3, 9, 12, 3, 8, 6, 14, 8]\n",
      "arr[2]=5\n",
      "(6, 7)\n",
      "[3, 1, 3, 2, 3, 1, 5, 5, 9, 6, 12, 8, 6, 14, 8]\n",
      "arr[8]=3\n",
      "(3, 5)\n",
      "[1, 1, 2, 3, 3, 3, 5, 6, 9, 5, 12, 8, 6, 14, 8]\n",
      "arr[8]=3\n",
      "(3, 5)\n",
      "[1, 1, 2, 3, 3, 3, 5, 6, 9, 5, 12, 8, 6, 14, 8]\n"
     ]
    }
   ],
   "source": [
    "def tri_partition(arr,l,r):\n",
    "    m=l\n",
    "    b = random.randint(l,r)\n",
    "    print('arr[{}]={}'.format(b,arr[b]))\n",
    "    b=arr[b]\n",
    "    \n",
    "    while not m>r:\n",
    "        if arr[m]==b:\n",
    "            m+=1\n",
    "        elif arr[m]>b:\n",
    "            arr[m],arr[r] = arr[r],arr[m]\n",
    "            r-=1\n",
    "        elif arr[m]<b:\n",
    "            arr[m],arr[l] = arr[l],arr[m]\n",
    "            l+=1\n",
    "            m+=1\n",
    "    return l,r\n",
    "    \n",
    "for i in range(0,5):\n",
    "    arr = [8,12,5,6,2,5,3,1,3,9,1,3,8,6,14]\n",
    "    print(tri_partition(arr,0,len(arr)-1))  \n",
    "    print(arr)"
   ]
  },
  {
   "cell_type": "code",
   "execution_count": 116,
   "metadata": {
    "collapsed": false
   },
   "outputs": [
    {
     "name": "stdout",
     "output_type": "stream",
     "text": [
      "[8, 12, 5, 6, 2, 5, 3, 22, 101, 24, 7, 1, 3, 9, 1, 3, 8, 6] 0 18\n",
      "arr[2]=5\n",
      "[3, 1, 3, 2, 3, 1, 5, 5, 24, 7, 101, 22, 9, 6, 12, 8, 6, 14]\n",
      "[3, 1, 3, 2, 3] 0 5\n",
      "arr[1]=1\n",
      "[1, 1, 2, 3, 3]\n",
      "[2, 3, 3] 2 5\n",
      "arr[4]=3\n",
      "[2, 3, 3]\n",
      "[24, 7, 101, 22, 9, 6, 12, 8, 6, 14] 8 18\n",
      "arr[17]=14\n",
      "[8, 7, 6, 9, 6, 12, 8, 14, 22, 101]\n",
      "[8, 7, 6, 9, 6, 12] 8 14\n",
      "arr[11]=9\n",
      "[8, 7, 6, 6, 8, 9]\n",
      "[8, 7, 6, 6] 8 12\n",
      "arr[12]=8\n",
      "[7, 6, 6, 8]\n",
      "[7, 6] 8 10\n",
      "arr[9]=6\n",
      "[6, 6]\n",
      "[22, 101] 16 18\n",
      "arr[17]=101\n",
      "[22, 24]\n",
      "[22] 16 17\n",
      "arr[17]=24\n",
      "[22]\n",
      "[1, 1, 2, 3, 3, 3, 5, 5, 6, 6, 7, 8, 8, 9, 12, 14, 22, 24, 101]\n"
     ]
    }
   ],
   "source": [
    "def sort(arr,l,r):\n",
    "    if l<r:\n",
    "        print(arr[l:r],l,r)\n",
    "        nl,nr = tri_partition(arr,l,r)\n",
    "        print(arr[l:r])\n",
    "        sort(arr,l,nl-1)\n",
    "        sort(arr,nr+1,r)\n",
    "    else:\n",
    "        pass\n",
    "\n",
    "arr = [8,12,5,6,2,5,3,22,101,24,7,1,3,9,1,3,8,6,14]\n",
    "sort(arr,0,len(arr)-1)\n",
    "print(arr) "
   ]
  },
  {
   "cell_type": "markdown",
   "metadata": {},
   "source": [
    "Быстрая сортировка Хоара (Кормен)"
   ]
  },
  {
   "cell_type": "code",
   "execution_count": 117,
   "metadata": {
    "collapsed": true
   },
   "outputs": [],
   "source": [
    "def Quicksort(A,p,r):\n",
    "    if p<r:\n",
    "        q = Partition(A,p,r)\n",
    "        Quicksort(A,p,q-1)\n",
    "        Quicksort(A,q+1,r)\n",
    "        \n",
    "def Partition(A,p,r):\n",
    "    x = A[r]\n",
    "    i = p-1\n",
    "    for j in range(p,r): # for j <- p to r-1\n",
    "        if A[j]<=x:\n",
    "            i = i+1\n",
    "            A[i],A[j] = A[j],A[i]\n",
    "            \n",
    "    A[i+1],A[r] = A[r],A[i+1]\n",
    "    return i+1"
   ]
  },
  {
   "cell_type": "code",
   "execution_count": 118,
   "metadata": {
    "collapsed": false
   },
   "outputs": [
    {
     "data": {
      "text/plain": [
       "3"
      ]
     },
     "execution_count": 118,
     "metadata": {},
     "output_type": "execute_result"
    }
   ],
   "source": [
    "A = [2,8,7,1,3,5,6,4]\n",
    "Partition(A,0,len(A)-1)"
   ]
  },
  {
   "cell_type": "code",
   "execution_count": 120,
   "metadata": {
    "collapsed": false
   },
   "outputs": [
    {
     "name": "stdout",
     "output_type": "stream",
     "text": [
      "[1, 2, 3, 4, 5, 6, 7, 8]\n"
     ]
    }
   ],
   "source": [
    "A = [2,8,7,1,3,5,6,4]\n",
    "Quicksort(A,0,len(A)-1)\n",
    "print(A)"
   ]
  },
  {
   "cell_type": "code",
   "execution_count": null,
   "metadata": {
    "collapsed": true
   },
   "outputs": [],
   "source": []
  }
 ],
 "metadata": {
  "kernelspec": {
   "display_name": "Python 3",
   "language": "python",
   "name": "python3"
  },
  "language_info": {
   "codemirror_mode": {
    "name": "ipython",
    "version": 3
   },
   "file_extension": ".py",
   "mimetype": "text/x-python",
   "name": "python",
   "nbconvert_exporter": "python",
   "pygments_lexer": "ipython3",
   "version": "3.5.1"
  }
 },
 "nbformat": 4,
 "nbformat_minor": 0
}
