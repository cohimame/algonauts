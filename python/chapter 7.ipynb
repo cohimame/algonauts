{
 "cells": [
  {
   "cell_type": "markdown",
   "metadata": {},
   "source": [
    "# Глава 7. Рекурсия"
   ]
  },
  {
   "cell_type": "markdown",
   "metadata": {},
   "source": [
    "7.1.3.-7.1.4. Напишите рекурсивную программу возведения в целую неотрицательную степень. То же, если требуется, чтобы глубина рекурсии не превосходила C*log n, где n - степень."
   ]
  },
  {
   "cell_type": "code",
   "execution_count": 8,
   "metadata": {
    "collapsed": false
   },
   "outputs": [
    {
     "data": {
      "text/plain": [
       "32"
      ]
     },
     "execution_count": 8,
     "metadata": {},
     "output_type": "execute_result"
    }
   ],
   "source": [
    "def power(a,n):\n",
    "    if n == 0:\n",
    "        return 1\n",
    "    elif n%2==0:\n",
    "        return power(a*a, n//2) \n",
    "    else:\n",
    "        return a*power(a, n-1)\n",
    "    \n",
    "power(2,5)"
   ]
  },
  {
   "cell_type": "markdown",
   "metadata": {},
   "source": [
    " 7.1.6. Используя лишь команды write(x) при x=0..9, написать рекурсивную программу печати десятичной  записи  целого положительного числа n."
   ]
  },
  {
   "cell_type": "code",
   "execution_count": 29,
   "metadata": {
    "collapsed": false
   },
   "outputs": [
    {
     "data": {
      "text/plain": [
       "(1234506, 0)"
      ]
     },
     "execution_count": 29,
     "metadata": {},
     "output_type": "execute_result"
    }
   ],
   "source": [
    "n = 12345060\n",
    "\n",
    "n // 10, n % 10"
   ]
  },
  {
   "cell_type": "code",
   "execution_count": 30,
   "metadata": {
    "collapsed": false
   },
   "outputs": [
    {
     "name": "stdout",
     "output_type": "stream",
     "text": [
      "1\n",
      "2\n",
      "3\n",
      "4\n",
      "5\n",
      "0\n",
      "6\n",
      "0\n"
     ]
    }
   ],
   "source": [
    "def step_print(n):\n",
    "    if n<10:\n",
    "        print(n,)\n",
    "    else:\n",
    "        step_print(n//10)\n",
    "        print(n % 10)\n",
    "step_print(n)"
   ]
  },
  {
   "cell_type": "markdown",
   "metadata": {},
   "source": [
    "7.1.7. Игра \"Ханойские башни\" состоит в следующем. Есть три стержня.  На  первый из них надета пирамидка из n колец (большие кольца снизу, меньшие сверху). Требуется переместить  кольца  на другой  стержень. Разрешается перекладывать кольца со стержня на стержень,  но класть большее кольцо поверх меньшего нельзя. Составить программу, указывающую требуемые действия."
   ]
  },
  {
   "cell_type": "code",
   "execution_count": null,
   "metadata": {
    "collapsed": true
   },
   "outputs": [],
   "source": []
  }
 ],
 "metadata": {
  "kernelspec": {
   "display_name": "Python 3",
   "language": "python",
   "name": "python3"
  },
  "language_info": {
   "codemirror_mode": {
    "name": "ipython",
    "version": 3
   },
   "file_extension": ".py",
   "mimetype": "text/x-python",
   "name": "python",
   "nbconvert_exporter": "python",
   "pygments_lexer": "ipython3",
   "version": "3.5.1"
  }
 },
 "nbformat": 4,
 "nbformat_minor": 0
}
