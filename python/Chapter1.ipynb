{
 "cells": [
  {
   "cell_type": "markdown",
   "metadata": {},
   "source": [
    "\"Программирование: теоремы и задачи\" by А. Шень.\n",
    "=="
   ]
  },
  {
   "cell_type": "code",
   "execution_count": 1,
   "metadata": {
    "collapsed": true
   },
   "outputs": [],
   "source": [
    "import numpy as np"
   ]
  },
  {
   "cell_type": "markdown",
   "metadata": {},
   "source": [
    "1. Переменные, выражения, присваивания.\n",
    "--"
   ]
  },
  {
   "cell_type": "markdown",
   "metadata": {},
   "source": [
    "1.1.1-1.1.2 Даны две целые переменные a, b. Составить фрагмент программы,\n",
    "после исполнения которого значения переменных поменялись бы местами."
   ]
  },
  {
   "cell_type": "code",
   "execution_count": 2,
   "metadata": {
    "collapsed": false
   },
   "outputs": [
    {
     "name": "stdout",
     "output_type": "stream",
     "text": [
      "13 12\n"
     ]
    }
   ],
   "source": [
    "a = 12\n",
    "b = 13\n",
    "\n",
    "t = a\n",
    "a = b\n",
    "b = t\n",
    "print(a,b)"
   ]
  },
  {
   "cell_type": "code",
   "execution_count": 3,
   "metadata": {
    "collapsed": false
   },
   "outputs": [
    {
     "name": "stdout",
     "output_type": "stream",
     "text": [
      "12 13\n"
     ]
    }
   ],
   "source": [
    "# python way\n",
    "a,b = b,a\n",
    "print(a,b)"
   ]
  },
  {
   "cell_type": "code",
   "execution_count": 4,
   "metadata": {
    "collapsed": false
   },
   "outputs": [
    {
     "name": "stdout",
     "output_type": "stream",
     "text": [
      "13 12\n"
     ]
    }
   ],
   "source": [
    "# без доп. переменных\n",
    "a = a + b \n",
    "b = a - b # == a\n",
    "a = a - b # == b \n",
    "print(a,b)"
   ]
  },
  {
   "cell_type": "markdown",
   "metadata": {},
   "source": [
    "1.1.3-1.1.4 Дано целое число а и натуральное число n. Вычислить a^n."
   ]
  },
  {
   "cell_type": "code",
   "execution_count": 5,
   "metadata": {
    "collapsed": false
   },
   "outputs": [
    {
     "name": "stdout",
     "output_type": "stream",
     "text": [
      "128\n"
     ]
    }
   ],
   "source": [
    "a = 2\n",
    "n = 7\n",
    "\n",
    "b = 1\n",
    "for k in range(1,n+1):\n",
    "   b = b*a\n",
    "print(b)"
   ]
  },
  {
   "cell_type": "code",
   "execution_count": 6,
   "metadata": {
    "collapsed": false
   },
   "outputs": [
    {
     "data": {
      "text/plain": [
       "0"
      ]
     },
     "execution_count": 6,
     "metadata": {},
     "output_type": "execute_result"
    }
   ],
   "source": [
    "2 % 2"
   ]
  },
  {
   "cell_type": "code",
   "execution_count": 7,
   "metadata": {
    "collapsed": false
   },
   "outputs": [
    {
     "name": "stdout",
     "output_type": "stream",
     "text": [
      "2^7 ==1*2^7\n",
      "2^7 ==2*2^6\n",
      "2^7 ==4*2^5\n",
      "2^7 ==8*2^4\n",
      "2^7 ==16*2^3\n",
      "2^7 ==32*2^2\n",
      "2^7 ==64*2^1\n",
      "2^7 ==128*2^0\n"
     ]
    }
   ],
   "source": [
    "# за C*log(n) действий\n",
    "a = 2\n",
    "n = 7\n",
    "\n",
    "k = n\n",
    "b = 1\n",
    "c = a\n",
    "\n",
    "print('{}^{} =={}*{}^{}'.format(a,n,b,c,k))\n",
    "while k != 0:\n",
    "    if n % 2 == 0:\n",
    "        c = c * c\n",
    "        k = k / 2\n",
    "    else:\n",
    "        b = b * c\n",
    "        k = k - 1\n",
    "    print('{}^{} =={}*{}^{}'.format(a,n,b,c,k))"
   ]
  },
  {
   "cell_type": "markdown",
   "metadata": {},
   "source": [
    "1.1.7. Дано натуральное число а и целое положительное число d. Вычислить частное q и остаток r при делении а на d, не используя операций div и mod."
   ]
  },
  {
   "cell_type": "code",
   "execution_count": 8,
   "metadata": {
    "collapsed": false
   },
   "outputs": [
    {
     "name": "stdout",
     "output_type": "stream",
     "text": [
      "17 ==3*5+2\n"
     ]
    }
   ],
   "source": [
    "# a = q*d + r\n",
    "a = 17\n",
    "d = 5\n",
    "\n",
    "q = 0\n",
    "r = a\n",
    "while r >= d:\n",
    "    r = r - d\n",
    "    q = q + 1\n",
    "\n",
    "print('{} =={}*{}+{}'.format(a,q,d,r)) "
   ]
  },
  {
   "cell_type": "markdown",
   "metadata": {},
   "source": [
    "1.1.8. Дано натуральное n, вычислить n! (0! = 1, n! = n · (n − 1)!)."
   ]
  },
  {
   "cell_type": "code",
   "execution_count": 9,
   "metadata": {
    "collapsed": false
   },
   "outputs": [
    {
     "name": "stdout",
     "output_type": "stream",
     "text": [
      "120\n"
     ]
    }
   ],
   "source": [
    "def fac(n):\n",
    "    n = 5\n",
    "    r = 1\n",
    "    while n != 0:\n",
    "        r = r * n\n",
    "        n = n - 1\n",
    "    return r\n",
    "\n",
    "print(fac(4))"
   ]
  },
  {
   "cell_type": "markdown",
   "metadata": {},
   "source": [
    "1.1.9 - 1.1.10 Последовательность Фибоначчи определяется так: a0 = 0, a1 =\n",
    "1, ak = ak-1 + ak-2 при k2. Дано n, вычислить an."
   ]
  },
  {
   "cell_type": "code",
   "execution_count": 10,
   "metadata": {
    "collapsed": false
   },
   "outputs": [
    {
     "name": "stdout",
     "output_type": "stream",
     "text": [
      "0\n",
      "1\n",
      "1\n",
      "2\n",
      "3\n",
      "5\n",
      "8\n",
      "13\n",
      "21\n"
     ]
    }
   ],
   "source": [
    "def fib(n):\n",
    "    k = 2 \n",
    "    a = [0,1]\n",
    "    while k <= n:\n",
    "        a.append( a[k-1] + a[k-2] )\n",
    "        k += 1\n",
    "    return a[n]\n",
    "\n",
    "for i in range(0,9):\n",
    "    print(fib(i))"
   ]
  },
  {
   "cell_type": "code",
   "execution_count": 11,
   "metadata": {
    "collapsed": false
   },
   "outputs": [
    {
     "name": "stdout",
     "output_type": "stream",
     "text": [
      "[[1 1]\n",
      " [1 0]]\n",
      "[[21 13]\n",
      " [13  8]]\n"
     ]
    }
   ],
   "source": [
    "# за C*log(n) матричных умножений\n",
    "def matrix_fib(n):\n",
    "    a = np.matrix('1 1; 1 0')\n",
    "    k = n\n",
    "    b = np.matrix('1 0; 0 1')\n",
    "    c = a\n",
    "    while k != 0:\n",
    "        if n % 2 == 0:\n",
    "            c = c * c\n",
    "            k = k / 2\n",
    "        else:\n",
    "            b = b * c\n",
    "            k = k - 1\n",
    "\n",
    "    return b\n",
    "\n",
    "a = np.matrix('1 1; 1 0')\n",
    "n = 7\n",
    "print(a)\n",
    "print(matrix_fib(n))"
   ]
  },
  {
   "cell_type": "markdown",
   "metadata": {},
   "source": [
    "1.1.11 - 1.1.12 Дано натуральное n, вычислить Sum{ 1/i! } i = 0..n"
   ]
  },
  {
   "cell_type": "code",
   "execution_count": 12,
   "metadata": {
    "collapsed": false
   },
   "outputs": [
    {
     "name": "stdout",
     "output_type": "stream",
     "text": [
      "2.708333333333333\n"
     ]
    }
   ],
   "source": [
    "def smart_series_sum(n):\n",
    "    k = 0 \n",
    "    last = 1\n",
    "    result = last\n",
    "    while k < n:\n",
    "        k += 1\n",
    "        last = last/k\n",
    "        result += last    \n",
    "    return result\n",
    "\n",
    "print(smart_series_sum(4))"
   ]
  },
  {
   "cell_type": "markdown",
   "metadata": {},
   "source": [
    "1.1.20-1.1.21. Составить программу, печатающую квадраты всех натуральных чисел от 0 до заданного натурального n. Использовать из арифметических операций лишь сложение и вычитание, причем общее число действий дол- жно быть порядка n."
   ]
  },
  {
   "cell_type": "code",
   "execution_count": 13,
   "metadata": {
    "collapsed": false
   },
   "outputs": [
    {
     "name": "stdout",
     "output_type": "stream",
     "text": [
      "0\n",
      "1\n",
      "4\n",
      "9\n",
      "16\n",
      "25\n"
     ]
    }
   ],
   "source": [
    "# (k-1)^2 = k^2-2k+1 => k^2 = (k-1)^2+2k-1\n",
    "\n",
    "def print_squares(n):\n",
    "    k   = 0\n",
    "    k_2 = 0\n",
    "    print(k_2)\n",
    "    while k != n: \n",
    "        k += 1\n",
    "        k_2 = k_2 + k+k - 1\n",
    "        print(k_2)\n",
    "\n",
    "print_squares(5)"
   ]
  },
  {
   "cell_type": "markdown",
   "metadata": {},
   "source": [
    "1.1.22. Составить программу, печатающую разложение на простые множители заданного натурального числа n > 0."
   ]
  },
  {
   "cell_type": "code",
   "execution_count": 14,
   "metadata": {
    "collapsed": false
   },
   "outputs": [
    {
     "name": "stdout",
     "output_type": "stream",
     "text": [
      "2\n",
      "3\n",
      "3\n",
      "5\n",
      "7\n",
      "13\n",
      "17\n",
      "139236 operations\n"
     ]
    }
   ],
   "source": [
    "def prime_factorization(n):\n",
    "    k = 2\n",
    "    i = 1\n",
    "    lasting = n\n",
    "    while k != n:\n",
    "        if lasting % k == 0:\n",
    "            print(k)\n",
    "            lasting = lasting / k\n",
    "        else:\n",
    "            k = k+1\n",
    "        i+=1\n",
    "    print('{} operations'.format(i))\n",
    "\n",
    "prime_factorization((17*2*5*7*9*13))         "
   ]
  },
  {
   "cell_type": "code",
   "execution_count": 15,
   "metadata": {
    "collapsed": false
   },
   "outputs": [
    {
     "name": "stdout",
     "output_type": "stream",
     "text": [
      "4.12310562562\n"
     ]
    }
   ],
   "source": [
    "print(np.sqrt(17))"
   ]
  },
  {
   "cell_type": "code",
   "execution_count": 16,
   "metadata": {
    "collapsed": false
   },
   "outputs": [
    {
     "name": "stdout",
     "output_type": "stream",
     "text": [
      "2\n",
      "3\n",
      "3\n",
      "5\n",
      "7\n",
      "13\n",
      "17\n",
      "380 operations\n"
     ]
    }
   ],
   "source": [
    "def smart_prime_factorization(n):\n",
    "    k = 2\n",
    "    i = 1\n",
    "    lasting = n\n",
    "    while k*k < n:\n",
    "        if lasting % k == 0:\n",
    "            print(k)\n",
    "            lasting = lasting / k\n",
    "        else:\n",
    "            k = k+1\n",
    "        i += 1\n",
    "    print('{} operations'.format(i))\n",
    "\n",
    "smart_prime_factorization((17*2*5*7*9*13))  "
   ]
  },
  {
   "cell_type": "markdown",
   "metadata": {},
   "source": [
    "1.1.26. Составить программу, печатающую десятичную запись заданного натурального числа n > 0. "
   ]
  },
  {
   "cell_type": "code",
   "execution_count": 17,
   "metadata": {
    "collapsed": false
   },
   "outputs": [
    {
     "name": "stdout",
     "output_type": "stream",
     "text": [
      "1\n",
      "2\n",
      "3\n",
      "4\n"
     ]
    }
   ],
   "source": [
    "def numbers(n):\n",
    "    base = 1\n",
    "    while 10*base < n:\n",
    "        base = base * 10\n",
    "    while base > 1:\n",
    "        print(int(n // base))\n",
    "        n = n % base\n",
    "        base /= 10\n",
    "    print(int(n))\n",
    "        \n",
    "numbers(1234)"
   ]
  },
  {
   "cell_type": "markdown",
   "metadata": {},
   "source": [
    "1.1.28. Дано натуральное n. Подсчитать количество решений неравенства x^2 + y^2 < n в натуральных числах, не используя действий с вещественными числами."
   ]
  },
  {
   "cell_type": "code",
   "execution_count": null,
   "metadata": {
    "collapsed": true
   },
   "outputs": [],
   "source": [
    "def solutions(n):\n",
    "    x = 0\n",
    "    y = 0\n",
    "    "
   ]
  },
  {
   "cell_type": "markdown",
   "metadata": {},
   "source": [
    "1.1.32. Дана функция f: {1...N} → {1...N}. Найти период последовательности 1,f(1),f(f(1),... Количество действий должно быть пропорционально суммарной длине предпериода и периода (эта сумма может быть существенно меньше N)."
   ]
  },
  {
   "cell_type": "code",
   "execution_count": null,
   "metadata": {
    "collapsed": false
   },
   "outputs": [],
   "source": [
    "periodic_func_1 = lambda k: 1 + k % 17"
   ]
  },
  {
   "cell_type": "code",
   "execution_count": null,
   "metadata": {
    "collapsed": false
   },
   "outputs": [],
   "source": [
    "def cycle(n,f):\n",
    "    result = 1\n",
    "    for i in range(1,n):\n",
    "        result = f(result)\n",
    "    return result"
   ]
  },
  {
   "cell_type": "code",
   "execution_count": null,
   "metadata": {
    "collapsed": false
   },
   "outputs": [],
   "source": [
    "for i in range(1,36):\n",
    "    print(cycle(i,periodic_func_1))"
   ]
  },
  {
   "cell_type": "code",
   "execution_count": null,
   "metadata": {
    "collapsed": false
   },
   "outputs": [],
   "source": [
    "def find_period(f):\n",
    "    k = 1\n",
    "    a = f(1)\n",
    "    b = f(f(1))\n",
    "    while a!=b:\n",
    "        k+=1\n",
    "        a = f(a)\n",
    "        b = f(f(b))\n",
    "    \n",
    "    l = 1\n",
    "    b = f(a) # k+1 шаг\n",
    "    while a!=b:\n",
    "        l = l+1\n",
    "        b = f(b)\n",
    "    \n",
    "    return l\n",
    "    \n",
    "    \n",
    "\n",
    "find_period(periodic_func)"
   ]
  },
  {
   "cell_type": "markdown",
   "metadata": {},
   "source": [
    "## 2. Массивы"
   ]
  },
  {
   "cell_type": "markdown",
   "metadata": {},
   "source": [
    "1.2.5. Дан массив x: array[1..n] of integer, причем x[1]<=x[2]<=...<=x[n] Найти количество различных чисел среди элементов этого массива."
   ]
  },
  {
   "cell_type": "code",
   "execution_count": 18,
   "metadata": {
    "collapsed": false
   },
   "outputs": [
    {
     "name": "stdout",
     "output_type": "stream",
     "text": [
      "False\n",
      "False\n",
      "True\n",
      "False\n",
      "True\n",
      "False\n",
      "True\n",
      "False\n",
      "True\n",
      "False\n",
      "False\n",
      "False\n",
      "False\n",
      "5\n"
     ]
    }
   ],
   "source": [
    "array = [1,1,1,2,2,3,3,4,4,5,5,5,5,5]\n",
    "n = len(array)\n",
    "\n",
    "def uniq(arr,n):\n",
    "    uniq_number = 1\n",
    "    for i in range(1,n):\n",
    "        print(arr[i-1] != arr[i])\n",
    "        if arr[i-1] != arr[i]:\n",
    "            uniq_number+=1\n",
    "    return uniq_number\n",
    "\n",
    "print(uniq(array,n))\n",
    "    "
   ]
  },
  {
   "cell_type": "markdown",
   "metadata": {},
   "source": [
    "1.2.6. Прямоугольное поле m×n разбито на mn квадратных клеток. Некоторые клетки покрашены в чёрный цвет. Известно, что все чёрные клетки могут быть разбиты на несколько непересекающихся и не имеющих общих вершин чёрных прямоугольников. Подсчитать число чёрных прямоугольников, о которых шла речь. Число действий должно быть порядка mn."
   ]
  },
  {
   "cell_type": "code",
   "execution_count": 24,
   "metadata": {
    "collapsed": false
   },
   "outputs": [
    {
     "name": "stdout",
     "output_type": "stream",
     "text": [
      "[[1 1 0 0]\n",
      " [0 0 1 1]\n",
      " [1 1 0 0]]\n"
     ]
    }
   ],
   "source": [
    "random_field = np.matrix(\n",
    "    '1 1 0 0; 0 0 1 1; 1 1 0 0'\n",
    ")\n",
    "print(random_field)"
   ]
  },
  {
   "cell_type": "code",
   "execution_count": 25,
   "metadata": {
    "collapsed": false
   },
   "outputs": [
    {
     "data": {
      "text/plain": [
       "3"
      ]
     },
     "execution_count": 25,
     "metadata": {},
     "output_type": "execute_result"
    }
   ],
   "source": [
    "def count_black_rectangles(a):\n",
    "    def is_left_corner(m,i,j):\n",
    "        if a[i,j]==1:\n",
    "            if i==0:\n",
    "                if j==0:\n",
    "                    return True\n",
    "                else:\n",
    "                    if a[i,j-1]==1:\n",
    "                        return False\n",
    "                    else:\n",
    "                        return True\n",
    "            else:\n",
    "                if j==0:\n",
    "                    if a[i-1,j]==1:\n",
    "                        return False\n",
    "                    else:\n",
    "                        return True\n",
    "                else:\n",
    "                    if a[i-1,j]==1 or a[i,j-1]==1:\n",
    "                        return False\n",
    "                    else:\n",
    "                        return True       \n",
    "        else:\n",
    "            return False\n",
    "        \n",
    "    n,m = a.shape\n",
    "    \n",
    "    recnum = 0\n",
    "    for i in range(0,n):\n",
    "        for j in range(0,m):\n",
    "            if is_left_corner(a,i,j):\n",
    "                recnum +=1\n",
    "    return recnum\n",
    "    \n",
    "    \n",
    "count_black_rectangles(random_field)"
   ]
  },
  {
   "cell_type": "markdown",
   "metadata": {},
   "source": [
    "1.2.7 - 1.2.8. Дан массив x: array[1..n] of integer. Найти количество различных чисел среди элементов этого массива."
   ]
  },
  {
   "cell_type": "code",
   "execution_count": 41,
   "metadata": {
    "collapsed": false
   },
   "outputs": [
    {
     "name": "stdout",
     "output_type": "stream",
     "text": [
      "([1, 2, 3, 4, 5], 5)\n"
     ]
    }
   ],
   "source": [
    "array = [1,1,1,2,2,3,3,4,4,5,5,5,5,5]\n",
    "n = len(array)\n",
    "\n",
    "# O(n^2)\n",
    "def count_uniq(array):\n",
    "    set_     = [array[0]]\n",
    "    set_size = 1\n",
    "    \n",
    "    for i in range(1,n):\n",
    "        elem = array[i]\n",
    "        precence = False\n",
    "        for j in range(0,set_size):\n",
    "            precence = precence or (set_[j] == elem)\n",
    "        if not precence:\n",
    "            set_.append(elem)\n",
    "            set_size+=1\n",
    "        \n",
    "    return set_,set_size\n",
    "   \n",
    "print(count_uniq(array))"
   ]
  },
  {
   "cell_type": "code",
   "execution_count": null,
   "metadata": {
    "collapsed": true
   },
   "outputs": [],
   "source": [
    "# O(nlogn)\n",
    "# 1. sort\n",
    "# 2. линейный проход"
   ]
  },
  {
   "cell_type": "markdown",
   "metadata": {},
   "source": [
    "1.2.9. Та же задача, если известно, что все элементы массива — числа от 1 до k и число действий должно быть порядка n + k."
   ]
  },
  {
   "cell_type": "code",
   "execution_count": null,
   "metadata": {
    "collapsed": true
   },
   "outputs": [],
   "source": []
  },
  {
   "cell_type": "markdown",
   "metadata": {},
   "source": [
    "1.2.10. Дан массив x[1]..x[n] целых чисел. Не используя других массивов, переставить элементы массива в обратном порядке."
   ]
  },
  {
   "cell_type": "code",
   "execution_count": 11,
   "metadata": {
    "collapsed": false
   },
   "outputs": [
    {
     "name": "stdout",
     "output_type": "stream",
     "text": [
      "[12, 11, 10, 9, 8, 7, 6, 5, 4, 3, 2, 1]\n"
     ]
    }
   ],
   "source": [
    "array = [1,2,3,4,5,6,7,8,9,10,11,12]\n",
    "n = len(array)\n",
    "\n",
    "for i in range(0, n // 2):\n",
    "    tmp = array[i]\n",
    "    array[i]=array[n-1-i]\n",
    "    array[n-1-i]=tmp\n",
    "    \n",
    "print(array)"
   ]
  },
  {
   "cell_type": "markdown",
   "metadata": {},
   "source": [
    "1.2.11.Дан массив целых чисел x[1]..x[m+n], рассматриваемый как соединение двух его отрезков: начала x[1]..x[m] длины m и конца x[m+1]..x[m+n] длины n. Не используя дополнительных массивов, переставить начало и конец. "
   ]
  },
  {
   "cell_type": "code",
   "execution_count": null,
   "metadata": {
    "collapsed": true
   },
   "outputs": [],
   "source": [
    "array = [1,2,3,4,5,6,7,8,9,10,11]\n",
    "\n",
    "#result = [8,9,10,11,1,2,3,4,5,6,7]\n",
    "n = len(array)\n",
    "m = 4\n",
    "\n",
    "for i in range(0, m // 2):\n",
    "    #print(i)\n",
    "    tmp = array[i]\n",
    "    array[i]=array[m-1-i]\n",
    "    array[m-1-i]=tmp\n",
    "    \n",
    "#print(array)\n",
    "\n",
    "for i in range(m, m + n // 2):\n",
    "    print(i)\n",
    "    #print(m+n-1-i)\n",
    "    #tmp = array[i]\n",
    "    #array[i]=array[m+n-1-i]\n",
    "    #array[m+n-1-i]=tmp\n",
    "\n",
    "#print(array)\n"
   ]
  },
  {
   "cell_type": "markdown",
   "metadata": {},
   "source": [
    "1.2.16.  Даны  два  возрастающих массива x: array [1..k] of integer и y: array [1..l] of  integer. Найти  количество  общих элементов в этих массивах (количество тех целых t, для которых t=x[i]=y[j] для некоторых i и j). (Число действий порядка k+l.)"
   ]
  },
  {
   "cell_type": "code",
   "execution_count": 65,
   "metadata": {
    "collapsed": false
   },
   "outputs": [
    {
     "name": "stdout",
     "output_type": "stream",
     "text": [
      "10 9\n"
     ]
    },
    {
     "data": {
      "text/plain": [
       "6"
      ]
     },
     "execution_count": 65,
     "metadata": {},
     "output_type": "execute_result"
    }
   ],
   "source": [
    "def count_common(x,y):\n",
    "    xpos=0\n",
    "    ypos=0\n",
    "    count=0\n",
    "    \n",
    "    while xpos<len(x) and ypos<len(y):\n",
    "        if x[xpos]==y[ypos]:\n",
    "            xpos+=1\n",
    "            ypos+=1\n",
    "            count+=1\n",
    "        elif x[xpos]<y[ypos]:\n",
    "            xpos+=1\n",
    "        elif x[xpos]>y[ypos]:\n",
    "            ypos+=1\n",
    "       \n",
    "    print(xpos,ypos)\n",
    "    return count\n",
    "\n",
    "\n",
    "x = [2,3,4,6,7,8,9,10,11,16]\n",
    "y = [1,2,4,5,8,9,10,12,16]\n",
    "count_common(x,y)"
   ]
  },
  {
   "cell_type": "markdown",
   "metadata": {},
   "source": [
    "1.2.17. Решить предыдущую задачу, если известно лишь, что:\n",
    "x[1] <= ... <= x[k] и y[1] <= ... <= y[l]"
   ]
  },
  {
   "cell_type": "code",
   "execution_count": 73,
   "metadata": {
    "collapsed": false
   },
   "outputs": [
    {
     "name": "stdout",
     "output_type": "stream",
     "text": [
      "14 13\n"
     ]
    },
    {
     "data": {
      "text/plain": [
       "6"
      ]
     },
     "execution_count": 73,
     "metadata": {},
     "output_type": "execute_result"
    }
   ],
   "source": [
    "def count_common(x,y):\n",
    "    xpos=0\n",
    "    ypos=0\n",
    "    count=0\n",
    "    \n",
    "    while xpos<len(x) and ypos<len(y):\n",
    "        if x[xpos]==y[ypos]:\n",
    "            count+=1\n",
    "            current=x[xpos]\n",
    "            while xpos<len(x) and x[xpos]==current:\n",
    "                xpos+=1\n",
    "            while ypos<len(y) and y[ypos]==current:\n",
    "                ypos+=1\n",
    "        elif x[xpos]<y[ypos]:\n",
    "            xpos+=1\n",
    "        elif x[xpos]>y[ypos]:\n",
    "            ypos+=1\n",
    "       \n",
    "    print(xpos,ypos)\n",
    "    return count\n",
    "\n",
    "\n",
    "x = [2,2,3,4,6,6,7,8,9,9,10,10,11,16]\n",
    "y = [1,2,4,4,5,8,9,9,9,10,12,16,16]\n",
    "count_common(x,y)"
   ]
  },
  {
   "cell_type": "markdown",
   "metadata": {},
   "source": [
    "1.2.19.Даны два массива x[1]<=...<=x[k] и y[1]<=...<=y[l]. \"Соединить\" их в массив z[1]<=...<=z[m] Число действий\n",
    "порядка m."
   ]
  },
  {
   "cell_type": "code",
   "execution_count": 81,
   "metadata": {
    "collapsed": true
   },
   "outputs": [
    {
     "data": {
      "text/plain": [
       "[1,\n",
       " 2,\n",
       " 2,\n",
       " 2,\n",
       " 3,\n",
       " 4,\n",
       " 4,\n",
       " 4,\n",
       " 5,\n",
       " 6,\n",
       " 6,\n",
       " 7,\n",
       " 8,\n",
       " 8,\n",
       " 9,\n",
       " 9,\n",
       " 9,\n",
       " 9,\n",
       " 9,\n",
       " 10,\n",
       " 10,\n",
       " 10,\n",
       " 11,\n",
       " 12,\n",
       " 16,\n",
       " 16,\n",
       " 16,\n",
       " 16,\n",
       " 17,\n",
       " 21,\n",
       " 24]"
      ]
     },
     "execution_count": 81,
     "metadata": {},
     "output_type": "execute_result"
    }
   ],
   "source": [
    "def merge(x,y):\n",
    "    result = []\n",
    "    xpos=0\n",
    "    ypos=0\n",
    "    while xpos<len(x) and ypos<len(y):\n",
    "        if x[xpos]<y[ypos]:\n",
    "            result.append(x[xpos])\n",
    "            xpos+=1\n",
    "        elif x[xpos]>y[ypos]:  \n",
    "            result.append(y[ypos])\n",
    "            ypos+=1\n",
    "        else:\n",
    "            result.append(x[xpos])\n",
    "            result.append(y[ypos])\n",
    "            xpos+=1\n",
    "            ypos+=1\n",
    "            \n",
    "    while xpos<len(x):\n",
    "        result.append(x[xpos])\n",
    "        xpos+=1\n",
    "    while ypos<len(y):\n",
    "        result.append(y[ypos])\n",
    "        ypos+=1\n",
    "    return result\n",
    "\n",
    "x = [2,2,3,4,6,6,7,8,9,9,10,10,11,16,16,17,21,24]\n",
    "y = [1,2,4,4,5,8,9,9,9,10,12,16,16]\n",
    "merge(x,y)"
   ]
  },
  {
   "cell_type": "markdown",
   "metadata": {},
   "source": [
    "1.2.20. Даны два массива x[1]<=...<=x[k] и y[1]<=...<=y[l]. Найти  их  \"пересечение\", т.е.массив z[1]<=...<=z[m], содержащий их общие  элементы,  причем  кратность  каждого элемента в массиве z равняется минимуму из его кратностей в массивах x и y. Число действий порядка k+l."
   ]
  },
  {
   "cell_type": "code",
   "execution_count": 84,
   "metadata": {
    "collapsed": false
   },
   "outputs": [
    {
     "data": {
      "text/plain": [
       "[2, 4, 8, 9, 9, 10, 16, 16]"
      ]
     },
     "execution_count": 84,
     "metadata": {},
     "output_type": "execute_result"
    }
   ],
   "source": [
    "def intersection(x,y):\n",
    "    result = []\n",
    "    xpos=0\n",
    "    ypos=0\n",
    "    while xpos<len(x) and ypos<len(y):\n",
    "        if x[xpos]<y[ypos]:\n",
    "            xpos+=1\n",
    "        elif x[xpos]>y[ypos]:  \n",
    "            ypos+=1\n",
    "        else:\n",
    "            result.append(x[xpos])\n",
    "            xpos+=1\n",
    "            ypos+=1      \n",
    "    return result\n",
    "\n",
    "x = [2,2,3,4,6,6,7,8,9,9,10,10,11,16,16,17,21,24]\n",
    "y = [1,2,4,4,5,8,9,9,9,10,12,16,16]\n",
    "intersection(x,y)"
   ]
  },
  {
   "cell_type": "markdown",
   "metadata": {},
   "source": [
    "1.2.21. Даны два массива x[1]<=...<=x[k] и  y[1]<=...<=y[l] и число q. Найти сумму вида x[i]+y[j], наиболее близкую к числу q. (Число действий порядка k+l, дополнительная память - фиксированное число целых переменных, сами массивы менять не разрешается.)"
   ]
  },
  {
   "cell_type": "code",
   "execution_count": null,
   "metadata": {
    "collapsed": true
   },
   "outputs": [],
   "source": [
    "#найдем минимальное расстояние \n",
    "#между элементами двух массивов"
   ]
  },
  {
   "cell_type": "markdown",
   "metadata": {},
   "source": [
    "1.2.31. Дан массив a[1..n] и число b. Переставить числа в массиве таким образом, чтобы слева от некоторой границы стояли числа, меньшие или равные b, а справа от границы — большие или равные b"
   ]
  },
  {
   "cell_type": "code",
   "execution_count": 43,
   "metadata": {
    "collapsed": false
   },
   "outputs": [
    {
     "name": "stdout",
     "output_type": "stream",
     "text": [
      "[8, 12, 5, 6, 2, 1, 3, 9, 3, 8, 1]\n",
      "\n",
      "8<-->1\n",
      "[1, 12, 5, 6, 2, 1, 3, 9, 3, 8, 8]\n",
      "8>=6\n",
      "[1, 12, 5, 6, 2, 1, 3, 9, 3, 8, 8]\n",
      "12<-->3\n",
      "[1, 3, 5, 6, 2, 1, 3, 9, 12, 8, 8]\n",
      "5<=6\n",
      "[1, 3, 5, 6, 2, 1, 3, 9, 12, 8, 8]\n",
      "6<=6\n",
      "[1, 3, 5, 6, 2, 1, 3, 9, 12, 8, 8]\n",
      "2<=6\n",
      "[1, 3, 5, 6, 2, 1, 3, 9, 12, 8, 8]\n",
      "1<=6\n",
      "[1, 3, 5, 6, 2, 1, 3, 9, 12, 8, 8]\n",
      "3<=6\n",
      "[1, 3, 5, 6, 2, 1, 3, 9, 12, 8, 8]\n",
      "[1, 3, 5, 6, 2, 1, 3, 9, 12, 8, 8]\n"
     ]
    }
   ],
   "source": [
    "arr = [8,12,5,6,2,1,3,9,3,8,1]\n",
    "left = 0\n",
    "right = len(arr)-1\n",
    "\n",
    "def reorder(arr,l,r,pos):\n",
    "    mark = arr[pos]\n",
    "    while l!=r:\n",
    "        if arr[l]<=mark:\n",
    "            print(\"{}<={}\".format(arr[l],mark))\n",
    "            l+=1\n",
    "            \n",
    "        elif arr[r]>=mark:\n",
    "            print(\"{}>={}\".format(arr[r],mark))\n",
    "            r-=1\n",
    "            \n",
    "        else:\n",
    "            print(\"{}<-->{}\".format(arr[l],arr[r]))\n",
    "            arr[r],arr[l] = arr[l],arr[r]\n",
    "            l+=1\n",
    "            r-=1\n",
    "        print(arr)\n",
    "\n",
    "print(arr)\n",
    "print()\n",
    "\n",
    "reorder(arr,left,right,3)\n",
    "\n",
    "print(arr)"
   ]
  },
  {
   "cell_type": "markdown",
   "metadata": {
    "collapsed": true
   },
   "source": [
    "1.2.32. Та же задача, но требуется, чтобы сначала шли элементы, меньшие b, затем равные b, а лишь затем большие b."
   ]
  },
  {
   "cell_type": "code",
   "execution_count": 57,
   "metadata": {
    "collapsed": false
   },
   "outputs": [
    {
     "name": "stdout",
     "output_type": "stream",
     "text": [
      "[8, 12, 5, 6, 2, 1, 3, 9, 3, 8, 6, 14]\n",
      "8>6\n",
      "[14, 12, 5, 6, 2, 1, 3, 9, 3, 8, 6, 8]\n",
      "14>6\n",
      "[6, 12, 5, 6, 2, 1, 3, 9, 3, 8, 14, 8]\n",
      "6=6\n",
      "[6, 12, 5, 6, 2, 1, 3, 9, 3, 8, 14, 8]\n",
      "12>6\n",
      "[6, 8, 5, 6, 2, 1, 3, 9, 3, 12, 14, 8]\n",
      "8>6\n",
      "[6, 3, 5, 6, 2, 1, 3, 9, 8, 12, 14, 8]\n",
      "3<6\n",
      "[3, 6, 5, 6, 2, 1, 3, 9, 8, 12, 14, 8]\n",
      "5<6\n",
      "[3, 5, 6, 6, 2, 1, 3, 9, 8, 12, 14, 8]\n",
      "6=6\n",
      "[3, 5, 6, 6, 2, 1, 3, 9, 8, 12, 14, 8]\n",
      "2<6\n",
      "[3, 5, 2, 6, 6, 1, 3, 9, 8, 12, 14, 8]\n",
      "1<6\n",
      "[3, 5, 2, 1, 6, 6, 3, 9, 8, 12, 14, 8]\n",
      "3<6\n",
      "[3, 5, 2, 1, 3, 6, 6, 9, 8, 12, 14, 8]\n"
     ]
    },
    {
     "data": {
      "text/plain": [
       "(5, 7)"
      ]
     },
     "execution_count": 57,
     "metadata": {},
     "output_type": "execute_result"
    }
   ],
   "source": [
    "def tri_partition(arr,b):\n",
    "    l=0\n",
    "    m=0\n",
    "    r=len(arr)-1\n",
    "    \n",
    "    while m!=r:\n",
    "        if arr[m]==b:\n",
    "            print(\"{}={}\".format(arr[l],b))\n",
    "            m+=1\n",
    "        elif arr[m]>b:\n",
    "            print(\"{}>{}\".format(arr[m],b))\n",
    "            arr[m],arr[r] = arr[r],arr[m]\n",
    "            r-=1\n",
    "        elif arr[m]<b:\n",
    "            print(\"{}<{}\".format(arr[m],b))\n",
    "            arr[m],arr[l] = arr[l],arr[m]\n",
    "            l+=1\n",
    "            m+=1\n",
    "        print(arr)\n",
    "    return l,m\n",
    "            \n",
    "arr = [8,12,5,6,2,1,3,9,3,8,6,14]\n",
    "print(arr)\n",
    "tri_partition(arr,6)        "
   ]
  },
  {
   "cell_type": "code",
   "execution_count": null,
   "metadata": {
    "collapsed": true
   },
   "outputs": [],
   "source": []
  }
 ],
 "metadata": {
  "kernelspec": {
   "display_name": "Python 3",
   "language": "python",
   "name": "python3"
  },
  "language_info": {
   "codemirror_mode": {
    "name": "ipython",
    "version": 3
   },
   "file_extension": ".py",
   "mimetype": "text/x-python",
   "name": "python",
   "nbconvert_exporter": "python",
   "pygments_lexer": "ipython3",
   "version": "3.5.1"
  }
 },
 "nbformat": 4,
 "nbformat_minor": 0
}
