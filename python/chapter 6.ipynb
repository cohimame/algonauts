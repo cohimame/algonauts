{
 "cells": [
  {
   "cell_type": "markdown",
   "metadata": {},
   "source": [
    "## Глава 6. Типы данных.\n",
    "\n",
    "#### 6.1. Стеки.\n"
   ]
  },
  {
   "cell_type": "code",
   "execution_count": null,
   "metadata": {
    "collapsed": true
   },
   "outputs": [],
   "source": [
    "class Stack:\n",
    "    def __init__(self,size):\n",
    "        self.stack = []\n",
    "        self.actual_size = 0\n",
    "        self.max_size = size\n",
    "        \n",
    "    def push(self,elem):\n",
    "        if self.actual_size<self.max_size:\n",
    "            self.stack+=[elem]\n",
    "            self.actual_size+=1\n",
    "        \n",
    "    def pop(self):\n",
    "        if self.stack:\n",
    "            elem=self.stack.pop()\n",
    "            self.actual_size-=1\n",
    "        else:\n",
    "            return None\n",
    "    \n",
    "    def make_empty(self):\n",
    "        self.stack=[]\n",
    "        self.actual_size=0\n",
    "        \n",
    "    def is_empty(self):\n",
    "        return not self.stack\n",
    "        \n",
    "    def __str__(self):\n",
    "        return \"Stack:{} \\n {} of {}\".format(\n",
    "            self.stack,len(self.stack),self.max_size)"
   ]
  }
 ],
 "metadata": {
  "kernelspec": {
   "display_name": "Python 3",
   "language": "python",
   "name": "python3"
  },
  "language_info": {
   "codemirror_mode": {
    "name": "ipython",
    "version": 3
   },
   "file_extension": ".py",
   "mimetype": "text/x-python",
   "name": "python",
   "nbconvert_exporter": "python",
   "pygments_lexer": "ipython3",
   "version": "3.5.1"
  }
 },
 "nbformat": 4,
 "nbformat_minor": 0
}
