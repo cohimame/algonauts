{
 "cells": [
  {
   "cell_type": "markdown",
   "metadata": {},
   "source": [
    "## Глава 6. Типы данных.\n",
    "\n",
    "#### 6.1. Стеки.\n",
    "\n",
    "\n",
    "Будем считать, что количество элементов в стеке не превосходит некоторого числа n. Тогда стек можно моделировать с помощью двух переменных:\n",
    "* Содержание: array [1..n] of T;\n",
    "* Длина: integer;"
   ]
  },
  {
   "cell_type": "code",
   "execution_count": 1,
   "metadata": {
    "collapsed": true
   },
   "outputs": [],
   "source": [
    "import numpy as np"
   ]
  },
  {
   "cell_type": "code",
   "execution_count": 2,
   "metadata": {
    "collapsed": true
   },
   "outputs": [],
   "source": [
    "class Stack:\n",
    "    def __init__(self,size):\n",
    "        self.stack=np.zeros(size,dtype=int)\n",
    "        self.actual_size=-1\n",
    "        self.max_size=size-1\n",
    "        \n",
    "    def push(self,elem):\n",
    "        if self.actual_size<self.max_size:\n",
    "            self.actual_size+=1\n",
    "            self.stack[self.actual_size]=elem\n",
    "        \n",
    "    def pop(self):\n",
    "        if self.actual_size!=-1:\n",
    "            elem = self.stack[self.actual_size]\n",
    "            self.actual_size-=1\n",
    "            return elem\n",
    "        \n",
    "    def top(self):\n",
    "        return self.stack[self.actual_size]\n",
    "            \n",
    "    def make_empty(self):\n",
    "        self.actual_size=-1\n",
    "        \n",
    "    def is_empty(self):\n",
    "        return self.actual_size==-1\n",
    "        \n",
    "    def __str__(self):\n",
    "        return \"Stack:{} \\n {} of {}\".format(\n",
    "            self.stack,self.actual_size+1,self.max_size+1)"
   ]
  },
  {
   "cell_type": "code",
   "execution_count": 3,
   "metadata": {
    "collapsed": false
   },
   "outputs": [
    {
     "name": "stdout",
     "output_type": "stream",
     "text": [
      "Stack:[0 0 0 0 0] \n",
      " 0 of 5\n",
      "True\n",
      "0\n"
     ]
    }
   ],
   "source": [
    "stack = Stack(5)\n",
    "\n",
    "print(stack)\n",
    "print(stack.is_empty())\n",
    "print(stack.top())"
   ]
  },
  {
   "cell_type": "code",
   "execution_count": 4,
   "metadata": {
    "collapsed": false
   },
   "outputs": [
    {
     "name": "stdout",
     "output_type": "stream",
     "text": [
      "Stack:[1 0 0 0 0] \n",
      " 1 of 5\n",
      "1\n"
     ]
    }
   ],
   "source": [
    "stack.push(1)\n",
    "print(stack)\n",
    "print(stack.top())"
   ]
  },
  {
   "cell_type": "code",
   "execution_count": 5,
   "metadata": {
    "collapsed": false
   },
   "outputs": [
    {
     "name": "stdout",
     "output_type": "stream",
     "text": [
      "Stack:[1 0 0 0 0] \n",
      " 0 of 5\n"
     ]
    }
   ],
   "source": [
    "stack.pop()\n",
    "print(stack)"
   ]
  },
  {
   "cell_type": "markdown",
   "metadata": {},
   "source": [
    "Будем рассматривать последовательности открывающихся и закрывающихся круглых и квадратных скобок ( ) [ ]. Среди всех таких последовательностей выделим правильные - те, которые могут быть получены по таким правилам:\n",
    "* пустая последовательность правильна.\n",
    "* если A и B правильны, то и AB правильна.\n",
    "* если A правильна, то [A] и (A) правильны.\n",
    "\n",
    "Пример. \n",
    "* последовательности (), [[ ]], [()[ ]()][ ] правильны\n",
    "* последовательности ], )(, (], ([)] — нет.\n",
    "\n",
    "6.1.1. Проверить правильность последовательности за время, не превосходящее константы, умноженной на её длину. Предполагается, что члены последовательности закодированы числами:"
   ]
  },
  {
   "cell_type": "code",
   "execution_count": 15,
   "metadata": {
    "collapsed": false
   },
   "outputs": [],
   "source": [
    "true_seq = '([()])'\n",
    "false_seq = '([()[])'\n",
    "\n",
    "def check(seq):\n",
    "    pos,end = -1,len(seq)\n",
    "    pstack = Stack(end)\n",
    "    \n",
    "    correct = True\n",
    "    while pos<end-1 and correct:\n",
    "        pos+=1\n",
    "        print(seq[pos])\n",
    "        if seq[pos]=='(':\n",
    "            pstack.push(1)\n",
    "            \n",
    "        elif seq[pos]=='[':\n",
    "            pstack.push(2)\n",
    "            \n",
    "        else: \n",
    "            if pstack.is_empty():\n",
    "                correct = False\n",
    "            else:\n",
    "                print('stack top:',pstack.top())\n",
    "                if seq[pos]==')':\n",
    "                    if pstack.top()==1:\n",
    "                        pstack.pop()\n",
    "                    else:\n",
    "                        correct = False\n",
    "                elif seq[pos]==']':\n",
    "                    if pstack.top()==2:\n",
    "                        pstack.pop()\n",
    "                    else:\n",
    "                        correct = False\n",
    "        print(pstack)\n",
    "        \n",
    "    return correct"
   ]
  },
  {
   "cell_type": "code",
   "execution_count": 16,
   "metadata": {
    "collapsed": false,
    "scrolled": true
   },
   "outputs": [
    {
     "name": "stdout",
     "output_type": "stream",
     "text": [
      "(\n",
      "Stack:[1 0 0 0 0 0] \n",
      " 1 of 6\n",
      "[\n",
      "Stack:[1 2 0 0 0 0] \n",
      " 2 of 6\n",
      "(\n",
      "Stack:[1 2 1 0 0 0] \n",
      " 3 of 6\n",
      ")\n",
      "stack top: 1\n",
      "Stack:[1 2 1 0 0 0] \n",
      " 2 of 6\n",
      "]\n",
      "stack top: 2\n",
      "Stack:[1 2 1 0 0 0] \n",
      " 1 of 6\n",
      ")\n",
      "stack top: 1\n",
      "Stack:[1 2 1 0 0 0] \n",
      " 0 of 6\n"
     ]
    },
    {
     "data": {
      "text/plain": [
       "True"
      ]
     },
     "execution_count": 16,
     "metadata": {},
     "output_type": "execute_result"
    }
   ],
   "source": [
    "check(true_seq)"
   ]
  },
  {
   "cell_type": "code",
   "execution_count": 17,
   "metadata": {
    "collapsed": false
   },
   "outputs": [
    {
     "data": {
      "text/plain": [
       "True"
      ]
     },
     "execution_count": 17,
     "metadata": {},
     "output_type": "execute_result"
    }
   ],
   "source": [
    "check(\"\")"
   ]
  },
  {
   "cell_type": "markdown",
   "metadata": {},
   "source": [
    "6.1.2. Как упростится программа, если известно, что в последовательности могут быть только круглые скобки?"
   ]
  },
  {
   "cell_type": "code",
   "execution_count": null,
   "metadata": {
    "collapsed": true
   },
   "outputs": [],
   "source": []
  },
  {
   "cell_type": "markdown",
   "metadata": {},
   "source": [
    "6.1.3. Реализовать с помощью одного массива два стека, суммарное количество элементов в которых ограничено длиной массива; все действия со стеками должны выполняться за время, ограниченное константой, не зависящей от длины стеков"
   ]
  },
  {
   "cell_type": "code",
   "execution_count": null,
   "metadata": {
    "collapsed": true
   },
   "outputs": [],
   "source": [
    "class DualStack:\n",
    "    def __init__(self,n):\n",
    "        self.stack=np.zeros(n,dtype=int)\n",
    "        self.l1=0\n",
    "        self.l2=n-1\n",
    "        self.size=n-1\n",
    "        \n",
    "    def push1(self,elem):\n",
    "        if self.l1<self.l2 and self.l1<self.size:\n",
    "            self.stack[self.l1]=elem\n",
    "            self.l1+=1\n",
    "        \n",
    "    def pop1(self):\n",
    "        if not self.is_empty1:\n",
    "            self.l1-=1\n",
    "            elem = self.stack[self.l1]\n",
    "            return elem\n",
    "        \n",
    "    def top1(self):\n",
    "        if not self.is_empty1:\n",
    "            return self.stack[self.l1-1]\n",
    "            \n",
    "    def make_empty1(self):\n",
    "        self.actual_size=0\n",
    "        \n",
    "    def is_empty1(self):\n",
    "        return self.actual_size==0\n",
    "    \n",
    "    #------------------------------------------------\n",
    "    \n",
    "    def push2(self,elem):\n",
    "        if self.l1<self.l2 and 0<self.l2:\n",
    "            self.stack[self.l2]=elem\n",
    "            self.l2-=1\n",
    "        \n",
    "    def pop2(self):\n",
    "        if not self.is_empty2:\n",
    "            self.l2+=1\n",
    "            elem = self.stack[self.l2]\n",
    "            return elem\n",
    "        \n",
    "    def top2(self):\n",
    "        if not self.is_empty2:\n",
    "            return self.stack[self.l2+1]\n",
    "            \n",
    "    def make_empty2(self):\n",
    "        self.l2=self.size\n",
    "        \n",
    "    def is_empty2(self):\n",
    "        return self.l2==self.size\n",
    "    \n",
    "        \n",
    "    def __str__(self):\n",
    "        return \"Stack:{} \\n {} of {}\".format(\n",
    "            self.stack,self.l1,self.l2)"
   ]
  }
 ],
 "metadata": {
  "kernelspec": {
   "display_name": "Python 3",
   "language": "python",
   "name": "python3"
  },
  "language_info": {
   "codemirror_mode": {
    "name": "ipython",
    "version": 3
   },
   "file_extension": ".py",
   "mimetype": "text/x-python",
   "name": "python",
   "nbconvert_exporter": "python",
   "pygments_lexer": "ipython3",
   "version": "3.5.1"
  }
 },
 "nbformat": 4,
 "nbformat_minor": 0
}
